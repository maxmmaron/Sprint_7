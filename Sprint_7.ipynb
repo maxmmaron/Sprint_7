{
 "cells": [
  {
   "cell_type": "markdown",
   "id": "a81ac108",
   "metadata": {},
   "source": [
    "<div style=\"border:solid green 2px; padding: 20px\">\n",
    "    \n",
    "<b>Hello, Max!</b> We're glad to see you in code-reviewer territory. You've done a great job on the project, but let's get to know each other and make it even better! We have our own atmosphere here and a few rules:\n",
    "\n",
    "\n",
    "1. I work as a code reviewer, and my main goal is not to point out your mistakes, but to share my experience and help you become a data analyst.\n",
    "2. We speak on a first-come-first-served basis.\n",
    "3. if you want to write or ask a question, don't be shy. Just choose your color for your comment.  \n",
    "4. this is a training project, you don't have to be afraid of making a mistake.  \n",
    "5. You have an unlimited number of attempts to pass the project.  \n",
    "6. Let's Go!\n",
    "\n",
    "\n",
    "---\n",
    "I'll be color-coding comments, please don't delete them:\n",
    "\n",
    "<div class=\"alert alert-block alert-danger\">✍\n",
    "    \n",
    "\n",
    "__Reviewer's comment №1__\n",
    "\n",
    "Needs fixing. The block requires some corrections. Work can't be accepted with the red comments.\n",
    "</div>\n",
    "    \n",
    "---\n",
    "\n",
    "<div class=\"alert alert-block alert-warning\">📝\n",
    "    \n",
    "\n",
    "__Reviewer's comment №1__\n",
    "\n",
    "\n",
    "Remarks. Some recommendations.\n",
    "</div>\n",
    "\n",
    "---\n",
    "\n",
    "<div class=\"alert alert-block alert-success\">✔️\n",
    "    \n",
    "\n",
    "__Reviewer's comment №1__\n",
    "\n",
    "Success. Everything is done succesfully.\n",
    "</div>\n",
    "    \n",
    "---\n",
    "    \n",
    "I suggest that we work on the project in dialogue: if you change something in the project or respond to my comments, write about it. It will be easier for me to track changes if you highlight your comments:   \n",
    "    \n",
    "<div class=\"alert alert-info\"> <b>Student сomments:</b> Student answer..</div>\n",
    "    \n",
    "All this will help to make the recheck of your project faster. If you have any questions about my comments, let me know, we'll figure it out together :)   \n",
    "    \n",
    "---"
   ]
  },
  {
   "cell_type": "markdown",
   "id": "9a2193a6",
   "metadata": {},
   "source": [
    "# Instacart Market Analysis"
   ]
  },
  {
   "cell_type": "markdown",
   "id": "7a889b1f",
   "metadata": {},
   "source": [
    "The goal of this analysis is to explore the datasets and identify customer trends based on purchasing habits"
   ]
  },
  {
   "cell_type": "markdown",
   "id": "230fa307",
   "metadata": {},
   "source": [
    "<div class=\"alert alert-block alert-success\">✔️\n",
    "    \n",
    "\n",
    "__Reviewer's comment №1__\n",
    "\n",
    "An excellent practice is to describe the goal and main steps in your own words (a skill that will help a lot on a final project). It would be good to add the progress and purpose of the study."
   ]
  },
  {
   "cell_type": "markdown",
   "id": "d25fe8f2",
   "metadata": {},
   "source": []
  },
  {
   "cell_type": "code",
   "execution_count": 1,
   "id": "5130e05e",
   "metadata": {},
   "outputs": [],
   "source": [
    "import pandas as pd\n",
    "import matplotlib.pyplot as plt\n",
    "import seaborn as sns"
   ]
  },
  {
   "cell_type": "code",
   "execution_count": 2,
   "id": "d8370c05",
   "metadata": {},
   "outputs": [],
   "source": [
    "orders = pd.read_csv('/datasets/instacart_orders.csv', sep=';')\n",
    "products = pd.read_csv('/datasets/products.csv', sep=';')\n",
    "aisles = pd.read_csv('/datasets/aisles.csv', sep=';')\n",
    "departments = pd.read_csv('/datasets/departments.csv', sep=';')\n",
    "order_products = pd.read_csv('/datasets/order_products.csv', sep=';')"
   ]
  },
  {
   "cell_type": "markdown",
   "id": "280b28a9",
   "metadata": {},
   "source": [
    "<div class=\"alert alert-block alert-danger\">✍\n",
    "    \n",
    "\n",
    "__Reviewer's comment №1__\n",
    "\n",
    "No familiarity with the data (use info() and head() methods"
   ]
  },
  {
   "cell_type": "markdown",
   "id": "cc30bea3",
   "metadata": {},
   "source": [
    "<div class=\"alert alert-block alert-success\">✔️\n",
    "    \n",
    "\n",
    "__Reviewer's comment №2__\n",
    "\n",
    "All right"
   ]
  },
  {
   "cell_type": "code",
   "execution_count": 3,
   "id": "9ce0b2a2",
   "metadata": {},
   "outputs": [
    {
     "name": "stdout",
     "output_type": "stream",
     "text": [
      "<class 'pandas.core.frame.DataFrame'>\n",
      "RangeIndex: 478967 entries, 0 to 478966\n",
      "Data columns (total 6 columns):\n",
      " #   Column                  Non-Null Count   Dtype  \n",
      "---  ------                  --------------   -----  \n",
      " 0   order_id                478967 non-null  int64  \n",
      " 1   user_id                 478967 non-null  int64  \n",
      " 2   order_number            478967 non-null  int64  \n",
      " 3   order_dow               478967 non-null  int64  \n",
      " 4   order_hour_of_day       478967 non-null  int64  \n",
      " 5   days_since_prior_order  450148 non-null  float64\n",
      "dtypes: float64(1), int64(5)\n",
      "memory usage: 21.9 MB\n"
     ]
    },
    {
     "data": {
      "text/html": [
       "<div>\n",
       "<style scoped>\n",
       "    .dataframe tbody tr th:only-of-type {\n",
       "        vertical-align: middle;\n",
       "    }\n",
       "\n",
       "    .dataframe tbody tr th {\n",
       "        vertical-align: top;\n",
       "    }\n",
       "\n",
       "    .dataframe thead th {\n",
       "        text-align: right;\n",
       "    }\n",
       "</style>\n",
       "<table border=\"1\" class=\"dataframe\">\n",
       "  <thead>\n",
       "    <tr style=\"text-align: right;\">\n",
       "      <th></th>\n",
       "      <th>order_id</th>\n",
       "      <th>user_id</th>\n",
       "      <th>order_number</th>\n",
       "      <th>order_dow</th>\n",
       "      <th>order_hour_of_day</th>\n",
       "      <th>days_since_prior_order</th>\n",
       "    </tr>\n",
       "  </thead>\n",
       "  <tbody>\n",
       "    <tr>\n",
       "      <th>0</th>\n",
       "      <td>1515936</td>\n",
       "      <td>183418</td>\n",
       "      <td>11</td>\n",
       "      <td>6</td>\n",
       "      <td>13</td>\n",
       "      <td>30.0</td>\n",
       "    </tr>\n",
       "    <tr>\n",
       "      <th>1</th>\n",
       "      <td>1690866</td>\n",
       "      <td>163593</td>\n",
       "      <td>5</td>\n",
       "      <td>5</td>\n",
       "      <td>12</td>\n",
       "      <td>9.0</td>\n",
       "    </tr>\n",
       "    <tr>\n",
       "      <th>2</th>\n",
       "      <td>1454967</td>\n",
       "      <td>39980</td>\n",
       "      <td>4</td>\n",
       "      <td>5</td>\n",
       "      <td>19</td>\n",
       "      <td>2.0</td>\n",
       "    </tr>\n",
       "    <tr>\n",
       "      <th>3</th>\n",
       "      <td>1768857</td>\n",
       "      <td>82516</td>\n",
       "      <td>56</td>\n",
       "      <td>0</td>\n",
       "      <td>20</td>\n",
       "      <td>10.0</td>\n",
       "    </tr>\n",
       "    <tr>\n",
       "      <th>4</th>\n",
       "      <td>3007858</td>\n",
       "      <td>196724</td>\n",
       "      <td>2</td>\n",
       "      <td>4</td>\n",
       "      <td>12</td>\n",
       "      <td>17.0</td>\n",
       "    </tr>\n",
       "  </tbody>\n",
       "</table>\n",
       "</div>"
      ],
      "text/plain": [
       "   order_id  user_id  order_number  order_dow  order_hour_of_day  \\\n",
       "0   1515936   183418            11          6                 13   \n",
       "1   1690866   163593             5          5                 12   \n",
       "2   1454967    39980             4          5                 19   \n",
       "3   1768857    82516            56          0                 20   \n",
       "4   3007858   196724             2          4                 12   \n",
       "\n",
       "   days_since_prior_order  \n",
       "0                    30.0  \n",
       "1                     9.0  \n",
       "2                     2.0  \n",
       "3                    10.0  \n",
       "4                    17.0  "
      ]
     },
     "execution_count": 3,
     "metadata": {},
     "output_type": "execute_result"
    }
   ],
   "source": [
    "orders.info(show_counts=True)\n",
    "orders.head()"
   ]
  },
  {
   "cell_type": "code",
   "execution_count": 4,
   "id": "34816520",
   "metadata": {},
   "outputs": [
    {
     "name": "stdout",
     "output_type": "stream",
     "text": [
      "<class 'pandas.core.frame.DataFrame'>\n",
      "RangeIndex: 49694 entries, 0 to 49693\n",
      "Data columns (total 4 columns):\n",
      " #   Column         Non-Null Count  Dtype \n",
      "---  ------         --------------  ----- \n",
      " 0   product_id     49694 non-null  int64 \n",
      " 1   product_name   48436 non-null  object\n",
      " 2   aisle_id       49694 non-null  int64 \n",
      " 3   department_id  49694 non-null  int64 \n",
      "dtypes: int64(3), object(1)\n",
      "memory usage: 1.5+ MB\n"
     ]
    },
    {
     "data": {
      "text/html": [
       "<div>\n",
       "<style scoped>\n",
       "    .dataframe tbody tr th:only-of-type {\n",
       "        vertical-align: middle;\n",
       "    }\n",
       "\n",
       "    .dataframe tbody tr th {\n",
       "        vertical-align: top;\n",
       "    }\n",
       "\n",
       "    .dataframe thead th {\n",
       "        text-align: right;\n",
       "    }\n",
       "</style>\n",
       "<table border=\"1\" class=\"dataframe\">\n",
       "  <thead>\n",
       "    <tr style=\"text-align: right;\">\n",
       "      <th></th>\n",
       "      <th>product_id</th>\n",
       "      <th>product_name</th>\n",
       "      <th>aisle_id</th>\n",
       "      <th>department_id</th>\n",
       "    </tr>\n",
       "  </thead>\n",
       "  <tbody>\n",
       "    <tr>\n",
       "      <th>0</th>\n",
       "      <td>1</td>\n",
       "      <td>Chocolate Sandwich Cookies</td>\n",
       "      <td>61</td>\n",
       "      <td>19</td>\n",
       "    </tr>\n",
       "    <tr>\n",
       "      <th>1</th>\n",
       "      <td>2</td>\n",
       "      <td>All-Seasons Salt</td>\n",
       "      <td>104</td>\n",
       "      <td>13</td>\n",
       "    </tr>\n",
       "    <tr>\n",
       "      <th>2</th>\n",
       "      <td>3</td>\n",
       "      <td>Robust Golden Unsweetened Oolong Tea</td>\n",
       "      <td>94</td>\n",
       "      <td>7</td>\n",
       "    </tr>\n",
       "    <tr>\n",
       "      <th>3</th>\n",
       "      <td>4</td>\n",
       "      <td>Smart Ones Classic Favorites Mini Rigatoni Wit...</td>\n",
       "      <td>38</td>\n",
       "      <td>1</td>\n",
       "    </tr>\n",
       "    <tr>\n",
       "      <th>4</th>\n",
       "      <td>5</td>\n",
       "      <td>Green Chile Anytime Sauce</td>\n",
       "      <td>5</td>\n",
       "      <td>13</td>\n",
       "    </tr>\n",
       "  </tbody>\n",
       "</table>\n",
       "</div>"
      ],
      "text/plain": [
       "   product_id                                       product_name  aisle_id  \\\n",
       "0           1                         Chocolate Sandwich Cookies        61   \n",
       "1           2                                   All-Seasons Salt       104   \n",
       "2           3               Robust Golden Unsweetened Oolong Tea        94   \n",
       "3           4  Smart Ones Classic Favorites Mini Rigatoni Wit...        38   \n",
       "4           5                          Green Chile Anytime Sauce         5   \n",
       "\n",
       "   department_id  \n",
       "0             19  \n",
       "1             13  \n",
       "2              7  \n",
       "3              1  \n",
       "4             13  "
      ]
     },
     "execution_count": 4,
     "metadata": {},
     "output_type": "execute_result"
    }
   ],
   "source": [
    "products.info()\n",
    "products.head()"
   ]
  },
  {
   "cell_type": "code",
   "execution_count": 5,
   "id": "2e10ed73",
   "metadata": {},
   "outputs": [
    {
     "name": "stdout",
     "output_type": "stream",
     "text": [
      "<class 'pandas.core.frame.DataFrame'>\n",
      "RangeIndex: 134 entries, 0 to 133\n",
      "Data columns (total 2 columns):\n",
      " #   Column    Non-Null Count  Dtype \n",
      "---  ------    --------------  ----- \n",
      " 0   aisle_id  134 non-null    int64 \n",
      " 1   aisle     134 non-null    object\n",
      "dtypes: int64(1), object(1)\n",
      "memory usage: 2.2+ KB\n"
     ]
    },
    {
     "data": {
      "text/html": [
       "<div>\n",
       "<style scoped>\n",
       "    .dataframe tbody tr th:only-of-type {\n",
       "        vertical-align: middle;\n",
       "    }\n",
       "\n",
       "    .dataframe tbody tr th {\n",
       "        vertical-align: top;\n",
       "    }\n",
       "\n",
       "    .dataframe thead th {\n",
       "        text-align: right;\n",
       "    }\n",
       "</style>\n",
       "<table border=\"1\" class=\"dataframe\">\n",
       "  <thead>\n",
       "    <tr style=\"text-align: right;\">\n",
       "      <th></th>\n",
       "      <th>aisle_id</th>\n",
       "      <th>aisle</th>\n",
       "    </tr>\n",
       "  </thead>\n",
       "  <tbody>\n",
       "    <tr>\n",
       "      <th>0</th>\n",
       "      <td>1</td>\n",
       "      <td>prepared soups salads</td>\n",
       "    </tr>\n",
       "    <tr>\n",
       "      <th>1</th>\n",
       "      <td>2</td>\n",
       "      <td>specialty cheeses</td>\n",
       "    </tr>\n",
       "    <tr>\n",
       "      <th>2</th>\n",
       "      <td>3</td>\n",
       "      <td>energy granola bars</td>\n",
       "    </tr>\n",
       "    <tr>\n",
       "      <th>3</th>\n",
       "      <td>4</td>\n",
       "      <td>instant foods</td>\n",
       "    </tr>\n",
       "    <tr>\n",
       "      <th>4</th>\n",
       "      <td>5</td>\n",
       "      <td>marinades meat preparation</td>\n",
       "    </tr>\n",
       "  </tbody>\n",
       "</table>\n",
       "</div>"
      ],
      "text/plain": [
       "   aisle_id                       aisle\n",
       "0         1       prepared soups salads\n",
       "1         2           specialty cheeses\n",
       "2         3         energy granola bars\n",
       "3         4               instant foods\n",
       "4         5  marinades meat preparation"
      ]
     },
     "execution_count": 5,
     "metadata": {},
     "output_type": "execute_result"
    }
   ],
   "source": [
    "aisles.info()\n",
    "aisles.head()"
   ]
  },
  {
   "cell_type": "code",
   "execution_count": 6,
   "id": "50fad68d",
   "metadata": {},
   "outputs": [
    {
     "name": "stdout",
     "output_type": "stream",
     "text": [
      "<class 'pandas.core.frame.DataFrame'>\n",
      "RangeIndex: 21 entries, 0 to 20\n",
      "Data columns (total 2 columns):\n",
      " #   Column         Non-Null Count  Dtype \n",
      "---  ------         --------------  ----- \n",
      " 0   department_id  21 non-null     int64 \n",
      " 1   department     21 non-null     object\n",
      "dtypes: int64(1), object(1)\n",
      "memory usage: 464.0+ bytes\n"
     ]
    },
    {
     "data": {
      "text/html": [
       "<div>\n",
       "<style scoped>\n",
       "    .dataframe tbody tr th:only-of-type {\n",
       "        vertical-align: middle;\n",
       "    }\n",
       "\n",
       "    .dataframe tbody tr th {\n",
       "        vertical-align: top;\n",
       "    }\n",
       "\n",
       "    .dataframe thead th {\n",
       "        text-align: right;\n",
       "    }\n",
       "</style>\n",
       "<table border=\"1\" class=\"dataframe\">\n",
       "  <thead>\n",
       "    <tr style=\"text-align: right;\">\n",
       "      <th></th>\n",
       "      <th>department_id</th>\n",
       "      <th>department</th>\n",
       "    </tr>\n",
       "  </thead>\n",
       "  <tbody>\n",
       "    <tr>\n",
       "      <th>0</th>\n",
       "      <td>1</td>\n",
       "      <td>frozen</td>\n",
       "    </tr>\n",
       "    <tr>\n",
       "      <th>1</th>\n",
       "      <td>2</td>\n",
       "      <td>other</td>\n",
       "    </tr>\n",
       "    <tr>\n",
       "      <th>2</th>\n",
       "      <td>3</td>\n",
       "      <td>bakery</td>\n",
       "    </tr>\n",
       "    <tr>\n",
       "      <th>3</th>\n",
       "      <td>4</td>\n",
       "      <td>produce</td>\n",
       "    </tr>\n",
       "    <tr>\n",
       "      <th>4</th>\n",
       "      <td>5</td>\n",
       "      <td>alcohol</td>\n",
       "    </tr>\n",
       "  </tbody>\n",
       "</table>\n",
       "</div>"
      ],
      "text/plain": [
       "   department_id department\n",
       "0              1     frozen\n",
       "1              2      other\n",
       "2              3     bakery\n",
       "3              4    produce\n",
       "4              5    alcohol"
      ]
     },
     "execution_count": 6,
     "metadata": {},
     "output_type": "execute_result"
    }
   ],
   "source": [
    "departments.info()\n",
    "departments.head()"
   ]
  },
  {
   "cell_type": "code",
   "execution_count": 7,
   "id": "b3e4b741",
   "metadata": {},
   "outputs": [
    {
     "name": "stdout",
     "output_type": "stream",
     "text": [
      "<class 'pandas.core.frame.DataFrame'>\n",
      "RangeIndex: 4545007 entries, 0 to 4545006\n",
      "Data columns (total 4 columns):\n",
      " #   Column             Non-Null Count    Dtype  \n",
      "---  ------             --------------    -----  \n",
      " 0   order_id           4545007 non-null  int64  \n",
      " 1   product_id         4545007 non-null  int64  \n",
      " 2   add_to_cart_order  4544171 non-null  float64\n",
      " 3   reordered          4545007 non-null  int64  \n",
      "dtypes: float64(1), int64(3)\n",
      "memory usage: 138.7 MB\n"
     ]
    },
    {
     "data": {
      "text/html": [
       "<div>\n",
       "<style scoped>\n",
       "    .dataframe tbody tr th:only-of-type {\n",
       "        vertical-align: middle;\n",
       "    }\n",
       "\n",
       "    .dataframe tbody tr th {\n",
       "        vertical-align: top;\n",
       "    }\n",
       "\n",
       "    .dataframe thead th {\n",
       "        text-align: right;\n",
       "    }\n",
       "</style>\n",
       "<table border=\"1\" class=\"dataframe\">\n",
       "  <thead>\n",
       "    <tr style=\"text-align: right;\">\n",
       "      <th></th>\n",
       "      <th>order_id</th>\n",
       "      <th>product_id</th>\n",
       "      <th>add_to_cart_order</th>\n",
       "      <th>reordered</th>\n",
       "    </tr>\n",
       "  </thead>\n",
       "  <tbody>\n",
       "    <tr>\n",
       "      <th>0</th>\n",
       "      <td>2141543</td>\n",
       "      <td>11440</td>\n",
       "      <td>17.0</td>\n",
       "      <td>0</td>\n",
       "    </tr>\n",
       "    <tr>\n",
       "      <th>1</th>\n",
       "      <td>567889</td>\n",
       "      <td>1560</td>\n",
       "      <td>1.0</td>\n",
       "      <td>1</td>\n",
       "    </tr>\n",
       "    <tr>\n",
       "      <th>2</th>\n",
       "      <td>2261212</td>\n",
       "      <td>26683</td>\n",
       "      <td>1.0</td>\n",
       "      <td>1</td>\n",
       "    </tr>\n",
       "    <tr>\n",
       "      <th>3</th>\n",
       "      <td>491251</td>\n",
       "      <td>8670</td>\n",
       "      <td>35.0</td>\n",
       "      <td>1</td>\n",
       "    </tr>\n",
       "    <tr>\n",
       "      <th>4</th>\n",
       "      <td>2571142</td>\n",
       "      <td>1940</td>\n",
       "      <td>5.0</td>\n",
       "      <td>1</td>\n",
       "    </tr>\n",
       "  </tbody>\n",
       "</table>\n",
       "</div>"
      ],
      "text/plain": [
       "   order_id  product_id  add_to_cart_order  reordered\n",
       "0   2141543       11440               17.0          0\n",
       "1    567889        1560                1.0          1\n",
       "2   2261212       26683                1.0          1\n",
       "3    491251        8670               35.0          1\n",
       "4   2571142        1940                5.0          1"
      ]
     },
     "execution_count": 7,
     "metadata": {},
     "output_type": "execute_result"
    }
   ],
   "source": [
    "order_products.info(show_counts=True)\n",
    "order_products.head()"
   ]
  },
  {
   "cell_type": "markdown",
   "id": "bc49588d",
   "metadata": {},
   "source": [
    "<div class=\"alert alert-block alert-warning\">📝\n",
    "    \n",
    "\n",
    "__Reviewer's comment №1__\n",
    "\n",
    "It would be good to comment on the data somehow"
   ]
  },
  {
   "cell_type": "markdown",
   "id": "07357848-dc64-4156-9cc3-01ff4365226d",
   "metadata": {},
   "source": [
    "## Find and remove duplicate values (and describe why you make your choices)"
   ]
  },
  {
   "cell_type": "markdown",
   "id": "f179f0a9",
   "metadata": {},
   "source": [
    "### `orders` data frame"
   ]
  },
  {
   "cell_type": "code",
   "execution_count": 8,
   "id": "b99297a5-405a-463d-8535-9adc3da4ad74",
   "metadata": {},
   "outputs": [
    {
     "data": {
      "text/plain": [
       "15"
      ]
     },
     "execution_count": 8,
     "metadata": {},
     "output_type": "execute_result"
    }
   ],
   "source": [
    "# Check for duplicated orders\n",
    "orders.duplicated().sum()"
   ]
  },
  {
   "cell_type": "code",
   "execution_count": 9,
   "id": "0d44de5d",
   "metadata": {},
   "outputs": [
    {
     "data": {
      "text/html": [
       "<div>\n",
       "<style scoped>\n",
       "    .dataframe tbody tr th:only-of-type {\n",
       "        vertical-align: middle;\n",
       "    }\n",
       "\n",
       "    .dataframe tbody tr th {\n",
       "        vertical-align: top;\n",
       "    }\n",
       "\n",
       "    .dataframe thead th {\n",
       "        text-align: right;\n",
       "    }\n",
       "</style>\n",
       "<table border=\"1\" class=\"dataframe\">\n",
       "  <thead>\n",
       "    <tr style=\"text-align: right;\">\n",
       "      <th></th>\n",
       "      <th>order_id</th>\n",
       "      <th>user_id</th>\n",
       "      <th>order_number</th>\n",
       "      <th>order_dow</th>\n",
       "      <th>order_hour_of_day</th>\n",
       "      <th>days_since_prior_order</th>\n",
       "    </tr>\n",
       "  </thead>\n",
       "  <tbody>\n",
       "    <tr>\n",
       "      <th>4838</th>\n",
       "      <td>2766110</td>\n",
       "      <td>162084</td>\n",
       "      <td>41</td>\n",
       "      <td>3</td>\n",
       "      <td>2</td>\n",
       "      <td>16.0</td>\n",
       "    </tr>\n",
       "    <tr>\n",
       "      <th>5156</th>\n",
       "      <td>2190225</td>\n",
       "      <td>138285</td>\n",
       "      <td>18</td>\n",
       "      <td>3</td>\n",
       "      <td>2</td>\n",
       "      <td>11.0</td>\n",
       "    </tr>\n",
       "    <tr>\n",
       "      <th>15506</th>\n",
       "      <td>553049</td>\n",
       "      <td>58599</td>\n",
       "      <td>13</td>\n",
       "      <td>3</td>\n",
       "      <td>2</td>\n",
       "      <td>7.0</td>\n",
       "    </tr>\n",
       "    <tr>\n",
       "      <th>18420</th>\n",
       "      <td>382357</td>\n",
       "      <td>120200</td>\n",
       "      <td>19</td>\n",
       "      <td>3</td>\n",
       "      <td>2</td>\n",
       "      <td>11.0</td>\n",
       "    </tr>\n",
       "    <tr>\n",
       "      <th>24691</th>\n",
       "      <td>690242</td>\n",
       "      <td>77357</td>\n",
       "      <td>2</td>\n",
       "      <td>3</td>\n",
       "      <td>2</td>\n",
       "      <td>9.0</td>\n",
       "    </tr>\n",
       "    <tr>\n",
       "      <th>...</th>\n",
       "      <td>...</td>\n",
       "      <td>...</td>\n",
       "      <td>...</td>\n",
       "      <td>...</td>\n",
       "      <td>...</td>\n",
       "      <td>...</td>\n",
       "    </tr>\n",
       "    <tr>\n",
       "      <th>457013</th>\n",
       "      <td>3384021</td>\n",
       "      <td>14881</td>\n",
       "      <td>6</td>\n",
       "      <td>3</td>\n",
       "      <td>2</td>\n",
       "      <td>30.0</td>\n",
       "    </tr>\n",
       "    <tr>\n",
       "      <th>458816</th>\n",
       "      <td>910166</td>\n",
       "      <td>164782</td>\n",
       "      <td>18</td>\n",
       "      <td>3</td>\n",
       "      <td>2</td>\n",
       "      <td>4.0</td>\n",
       "    </tr>\n",
       "    <tr>\n",
       "      <th>459635</th>\n",
       "      <td>1680532</td>\n",
       "      <td>106435</td>\n",
       "      <td>6</td>\n",
       "      <td>3</td>\n",
       "      <td>2</td>\n",
       "      <td>21.0</td>\n",
       "    </tr>\n",
       "    <tr>\n",
       "      <th>468324</th>\n",
       "      <td>222962</td>\n",
       "      <td>54979</td>\n",
       "      <td>59</td>\n",
       "      <td>3</td>\n",
       "      <td>2</td>\n",
       "      <td>3.0</td>\n",
       "    </tr>\n",
       "    <tr>\n",
       "      <th>477526</th>\n",
       "      <td>2592344</td>\n",
       "      <td>46860</td>\n",
       "      <td>38</td>\n",
       "      <td>3</td>\n",
       "      <td>2</td>\n",
       "      <td>3.0</td>\n",
       "    </tr>\n",
       "  </tbody>\n",
       "</table>\n",
       "<p>121 rows × 6 columns</p>\n",
       "</div>"
      ],
      "text/plain": [
       "        order_id  user_id  order_number  order_dow  order_hour_of_day  \\\n",
       "4838     2766110   162084            41          3                  2   \n",
       "5156     2190225   138285            18          3                  2   \n",
       "15506     553049    58599            13          3                  2   \n",
       "18420     382357   120200            19          3                  2   \n",
       "24691     690242    77357             2          3                  2   \n",
       "...          ...      ...           ...        ...                ...   \n",
       "457013   3384021    14881             6          3                  2   \n",
       "458816    910166   164782            18          3                  2   \n",
       "459635   1680532   106435             6          3                  2   \n",
       "468324    222962    54979            59          3                  2   \n",
       "477526   2592344    46860            38          3                  2   \n",
       "\n",
       "        days_since_prior_order  \n",
       "4838                      16.0  \n",
       "5156                      11.0  \n",
       "15506                      7.0  \n",
       "18420                     11.0  \n",
       "24691                      9.0  \n",
       "...                        ...  \n",
       "457013                    30.0  \n",
       "458816                     4.0  \n",
       "459635                    21.0  \n",
       "468324                     3.0  \n",
       "477526                     3.0  \n",
       "\n",
       "[121 rows x 6 columns]"
      ]
     },
     "execution_count": 9,
     "metadata": {},
     "output_type": "execute_result"
    }
   ],
   "source": [
    "# Check for all orders placed Wednesday at 2:00 AM\n",
    "orders[(orders['order_dow'] == 3) & (orders['order_hour_of_day'] == 2)]"
   ]
  },
  {
   "cell_type": "code",
   "execution_count": 10,
   "id": "480563c7",
   "metadata": {},
   "outputs": [],
   "source": [
    "# Remove duplicate orders\n",
    "orders = orders.drop_duplicates()"
   ]
  },
  {
   "cell_type": "code",
   "execution_count": 11,
   "id": "0b2396a2",
   "metadata": {},
   "outputs": [
    {
     "data": {
      "text/plain": [
       "0"
      ]
     },
     "execution_count": 11,
     "metadata": {},
     "output_type": "execute_result"
    }
   ],
   "source": [
    "# Double check for duplicate rows\n",
    "orders.duplicated().sum()"
   ]
  },
  {
   "cell_type": "code",
   "execution_count": 12,
   "id": "f6113ef1",
   "metadata": {},
   "outputs": [
    {
     "data": {
      "text/plain": [
       "0"
      ]
     },
     "execution_count": 12,
     "metadata": {},
     "output_type": "execute_result"
    }
   ],
   "source": [
    "# Double check for duplicate order IDs only\n",
    "orders['order_id'].duplicated().sum()"
   ]
  },
  {
   "cell_type": "markdown",
   "id": "5e8905ae",
   "metadata": {},
   "source": [
    "<div class=\"alert alert-block alert-success\">✔️\n",
    "    \n",
    "\n",
    "__Reviewer's comment №1__\n",
    "\n",
    "Duplicate checking is the basis of data preprocessing"
   ]
  },
  {
   "cell_type": "markdown",
   "id": "45e6bc46",
   "metadata": {},
   "source": [
    "### `products` data frame"
   ]
  },
  {
   "cell_type": "code",
   "execution_count": 13,
   "id": "5f526b5b-8175-46fa-a0fd-441767d50e64",
   "metadata": {},
   "outputs": [
    {
     "data": {
      "text/plain": [
       "0"
      ]
     },
     "execution_count": 13,
     "metadata": {},
     "output_type": "execute_result"
    }
   ],
   "source": [
    "# Check for fully duplicate rows\n",
    "products.duplicated().sum()"
   ]
  },
  {
   "cell_type": "code",
   "execution_count": 14,
   "id": "88daa4f4",
   "metadata": {},
   "outputs": [
    {
     "data": {
      "text/plain": [
       "0"
      ]
     },
     "execution_count": 14,
     "metadata": {},
     "output_type": "execute_result"
    }
   ],
   "source": [
    "# Check for just duplicate product IDs\n",
    "products['product_id'].duplicated().sum()"
   ]
  },
  {
   "cell_type": "code",
   "execution_count": 15,
   "id": "c773f0bf",
   "metadata": {},
   "outputs": [
    {
     "data": {
      "text/plain": [
       "1361"
      ]
     },
     "execution_count": 15,
     "metadata": {},
     "output_type": "execute_result"
    }
   ],
   "source": [
    "# Check for just duplicate product names (convert names to lowercase to compare better)\n",
    "products['product_name'].str.lower().duplicated().sum()"
   ]
  },
  {
   "cell_type": "code",
   "execution_count": 16,
   "id": "01efd02e",
   "metadata": {},
   "outputs": [
    {
     "data": {
      "text/html": [
       "<div>\n",
       "<style scoped>\n",
       "    .dataframe tbody tr th:only-of-type {\n",
       "        vertical-align: middle;\n",
       "    }\n",
       "\n",
       "    .dataframe tbody tr th {\n",
       "        vertical-align: top;\n",
       "    }\n",
       "\n",
       "    .dataframe thead th {\n",
       "        text-align: right;\n",
       "    }\n",
       "</style>\n",
       "<table border=\"1\" class=\"dataframe\">\n",
       "  <thead>\n",
       "    <tr style=\"text-align: right;\">\n",
       "      <th></th>\n",
       "      <th>product_id</th>\n",
       "      <th>product_name</th>\n",
       "      <th>aisle_id</th>\n",
       "      <th>department_id</th>\n",
       "    </tr>\n",
       "  </thead>\n",
       "  <tbody>\n",
       "    <tr>\n",
       "      <th>31844</th>\n",
       "      <td>31845</td>\n",
       "      <td>18-In-1 Hemp Peppermint Pure-Castile Soap</td>\n",
       "      <td>25</td>\n",
       "      <td>11</td>\n",
       "    </tr>\n",
       "    <tr>\n",
       "      <th>23339</th>\n",
       "      <td>23340</td>\n",
       "      <td>18-in-1 Hemp Peppermint Pure-Castile Soap</td>\n",
       "      <td>25</td>\n",
       "      <td>11</td>\n",
       "    </tr>\n",
       "    <tr>\n",
       "      <th>19941</th>\n",
       "      <td>19942</td>\n",
       "      <td>Aged Balsamic Vinegar Of Modena</td>\n",
       "      <td>19</td>\n",
       "      <td>13</td>\n",
       "    </tr>\n",
       "    <tr>\n",
       "      <th>13152</th>\n",
       "      <td>13153</td>\n",
       "      <td>Aged Balsamic Vinegar of Modena</td>\n",
       "      <td>19</td>\n",
       "      <td>13</td>\n",
       "    </tr>\n",
       "    <tr>\n",
       "      <th>22582</th>\n",
       "      <td>22583</td>\n",
       "      <td>Albacore Solid White Tuna In Water</td>\n",
       "      <td>95</td>\n",
       "      <td>15</td>\n",
       "    </tr>\n",
       "    <tr>\n",
       "      <th>24830</th>\n",
       "      <td>24831</td>\n",
       "      <td>Albacore Solid White Tuna in Water</td>\n",
       "      <td>95</td>\n",
       "      <td>15</td>\n",
       "    </tr>\n",
       "    <tr>\n",
       "      <th>515</th>\n",
       "      <td>516</td>\n",
       "      <td>American Cheese Slices</td>\n",
       "      <td>21</td>\n",
       "      <td>16</td>\n",
       "    </tr>\n",
       "    <tr>\n",
       "      <th>9037</th>\n",
       "      <td>9038</td>\n",
       "      <td>American Cheese slices</td>\n",
       "      <td>21</td>\n",
       "      <td>16</td>\n",
       "    </tr>\n",
       "    <tr>\n",
       "      <th>49530</th>\n",
       "      <td>49531</td>\n",
       "      <td>Anchovy Fillets In Olive Oil</td>\n",
       "      <td>95</td>\n",
       "      <td>15</td>\n",
       "    </tr>\n",
       "    <tr>\n",
       "      <th>12325</th>\n",
       "      <td>12326</td>\n",
       "      <td>Anchovy Fillets in Olive Oil</td>\n",
       "      <td>95</td>\n",
       "      <td>15</td>\n",
       "    </tr>\n",
       "  </tbody>\n",
       "</table>\n",
       "</div>"
      ],
      "text/plain": [
       "       product_id                               product_name  aisle_id  \\\n",
       "31844       31845  18-In-1 Hemp Peppermint Pure-Castile Soap        25   \n",
       "23339       23340  18-in-1 Hemp Peppermint Pure-Castile Soap        25   \n",
       "19941       19942            Aged Balsamic Vinegar Of Modena        19   \n",
       "13152       13153            Aged Balsamic Vinegar of Modena        19   \n",
       "22582       22583         Albacore Solid White Tuna In Water        95   \n",
       "24830       24831         Albacore Solid White Tuna in Water        95   \n",
       "515           516                     American Cheese Slices        21   \n",
       "9037         9038                     American Cheese slices        21   \n",
       "49530       49531               Anchovy Fillets In Olive Oil        95   \n",
       "12325       12326               Anchovy Fillets in Olive Oil        95   \n",
       "\n",
       "       department_id  \n",
       "31844             11  \n",
       "23339             11  \n",
       "19941             13  \n",
       "13152             13  \n",
       "22582             15  \n",
       "24830             15  \n",
       "515               16  \n",
       "9037              16  \n",
       "49530             15  \n",
       "12325             15  "
      ]
     },
     "execution_count": 16,
     "metadata": {},
     "output_type": "execute_result"
    }
   ],
   "source": [
    "# Check for duplicate product names that aren't missing\n",
    "products[products['product_name'].str.lower().duplicated(keep=False)].sort_values('product_name').head(10)"
   ]
  },
  {
   "cell_type": "markdown",
   "id": "9da8d293",
   "metadata": {},
   "source": [
    "<div class=\"alert alert-block alert-success\">✔️\n",
    "    \n",
    "\n",
    "__Reviewer's comment №1__\n",
    "\n",
    "Great"
   ]
  },
  {
   "cell_type": "markdown",
   "id": "60f30db1",
   "metadata": {},
   "source": [
    "### `departments` data frame"
   ]
  },
  {
   "cell_type": "code",
   "execution_count": 17,
   "id": "fb410ad4-0fbf-4b80-bb09-23fdea79afe3",
   "metadata": {},
   "outputs": [
    {
     "data": {
      "text/plain": [
       "0"
      ]
     },
     "execution_count": 17,
     "metadata": {},
     "output_type": "execute_result"
    }
   ],
   "source": [
    "departments.duplicated().sum()"
   ]
  },
  {
   "cell_type": "code",
   "execution_count": 18,
   "id": "332b12bb",
   "metadata": {},
   "outputs": [
    {
     "data": {
      "text/plain": [
       "0"
      ]
     },
     "execution_count": 18,
     "metadata": {},
     "output_type": "execute_result"
    }
   ],
   "source": [
    "departments['department_id'].duplicated().sum()"
   ]
  },
  {
   "cell_type": "markdown",
   "id": "bd30d78e",
   "metadata": {},
   "source": []
  },
  {
   "cell_type": "markdown",
   "id": "889349c1",
   "metadata": {},
   "source": [
    "### `aisles` data frame"
   ]
  },
  {
   "cell_type": "code",
   "execution_count": 19,
   "id": "9da89fb9-4679-40f5-ad0d-c34df753a3f8",
   "metadata": {},
   "outputs": [
    {
     "data": {
      "text/plain": [
       "0"
      ]
     },
     "execution_count": 19,
     "metadata": {},
     "output_type": "execute_result"
    }
   ],
   "source": [
    "aisles.duplicated().sum()"
   ]
  },
  {
   "cell_type": "code",
   "execution_count": 20,
   "id": "da7c2822",
   "metadata": {},
   "outputs": [
    {
     "data": {
      "text/plain": [
       "0"
      ]
     },
     "execution_count": 20,
     "metadata": {},
     "output_type": "execute_result"
    }
   ],
   "source": [
    "aisles['aisle_id'].duplicated().sum()"
   ]
  },
  {
   "cell_type": "markdown",
   "id": "ac63826f",
   "metadata": {},
   "source": []
  },
  {
   "cell_type": "markdown",
   "id": "274cd06a",
   "metadata": {},
   "source": [
    "### `order_products` data frame"
   ]
  },
  {
   "cell_type": "code",
   "execution_count": 21,
   "id": "52326689-84a8-4b8f-a881-7c68780f62c9",
   "metadata": {},
   "outputs": [
    {
     "data": {
      "text/plain": [
       "0"
      ]
     },
     "execution_count": 21,
     "metadata": {},
     "output_type": "execute_result"
    }
   ],
   "source": [
    "# Check for fullly duplicate rows\n",
    "order_products.duplicated().sum()"
   ]
  },
  {
   "cell_type": "code",
   "execution_count": 22,
   "id": "7b861391",
   "metadata": {},
   "outputs": [
    {
     "data": {
      "text/plain": [
       "0"
      ]
     },
     "execution_count": 22,
     "metadata": {},
     "output_type": "execute_result"
    }
   ],
   "source": [
    "# Double check for any other tricky duplicates\n",
    "order_products[['order_id', 'product_id']].duplicated().sum()"
   ]
  },
  {
   "cell_type": "markdown",
   "id": "0b890492",
   "metadata": {},
   "source": [
    "<div class=\"alert alert-block alert-success\">✔️\n",
    "    \n",
    "\n",
    "__Reviewer's comment №1__\n",
    "\n",
    "That's right, well done!)"
   ]
  },
  {
   "cell_type": "markdown",
   "id": "1e46de76",
   "metadata": {},
   "source": [
    "## Find and remove missing values\n"
   ]
  },
  {
   "cell_type": "markdown",
   "id": "c0aebd78",
   "metadata": {},
   "source": [
    "### `products` data frame"
   ]
  },
  {
   "cell_type": "code",
   "execution_count": 23,
   "id": "fe4a8b0f",
   "metadata": {},
   "outputs": [
    {
     "name": "stdout",
     "output_type": "stream",
     "text": [
      "<class 'pandas.core.frame.DataFrame'>\n",
      "RangeIndex: 49694 entries, 0 to 49693\n",
      "Data columns (total 4 columns):\n",
      " #   Column         Non-Null Count  Dtype \n",
      "---  ------         --------------  ----- \n",
      " 0   product_id     49694 non-null  int64 \n",
      " 1   product_name   48436 non-null  object\n",
      " 2   aisle_id       49694 non-null  int64 \n",
      " 3   department_id  49694 non-null  int64 \n",
      "dtypes: int64(3), object(1)\n",
      "memory usage: 1.5+ MB\n"
     ]
    },
    {
     "data": {
      "text/plain": [
       "product_id          0\n",
       "product_name     1258\n",
       "aisle_id            0\n",
       "department_id       0\n",
       "dtype: int64"
      ]
     },
     "execution_count": 23,
     "metadata": {},
     "output_type": "execute_result"
    }
   ],
   "source": [
    "products.info()\n",
    "\n",
    "products.isnull().sum()"
   ]
  },
  {
   "cell_type": "code",
   "execution_count": 24,
   "id": "e96167bc",
   "metadata": {},
   "outputs": [
    {
     "data": {
      "text/plain": [
       "100    1258\n",
       "Name: aisle_id, dtype: int64"
      ]
     },
     "execution_count": 24,
     "metadata": {},
     "output_type": "execute_result"
    }
   ],
   "source": [
    "# Are all of the missing product names associated with aisle ID 100?\n",
    "products[products['product_name'].isnull()]['aisle_id'].value_counts()"
   ]
  },
  {
   "cell_type": "code",
   "execution_count": 25,
   "id": "8fd0a541",
   "metadata": {},
   "outputs": [
    {
     "data": {
      "text/plain": [
       "21    1258\n",
       "Name: department_id, dtype: int64"
      ]
     },
     "execution_count": 25,
     "metadata": {},
     "output_type": "execute_result"
    }
   ],
   "source": [
    "# Are all of the missing product names associated with department ID 21?\n",
    "products[products['product_name'].isnull()]['department_id'].value_counts()"
   ]
  },
  {
   "cell_type": "code",
   "execution_count": 26,
   "id": "325c3464",
   "metadata": {},
   "outputs": [
    {
     "data": {
      "text/html": [
       "<div>\n",
       "<style scoped>\n",
       "    .dataframe tbody tr th:only-of-type {\n",
       "        vertical-align: middle;\n",
       "    }\n",
       "\n",
       "    .dataframe tbody tr th {\n",
       "        vertical-align: top;\n",
       "    }\n",
       "\n",
       "    .dataframe thead th {\n",
       "        text-align: right;\n",
       "    }\n",
       "</style>\n",
       "<table border=\"1\" class=\"dataframe\">\n",
       "  <thead>\n",
       "    <tr style=\"text-align: right;\">\n",
       "      <th></th>\n",
       "      <th>aisle_id</th>\n",
       "      <th>aisle</th>\n",
       "    </tr>\n",
       "  </thead>\n",
       "  <tbody>\n",
       "    <tr>\n",
       "      <th>99</th>\n",
       "      <td>100</td>\n",
       "      <td>missing</td>\n",
       "    </tr>\n",
       "  </tbody>\n",
       "</table>\n",
       "</div>"
      ],
      "text/plain": [
       "    aisle_id    aisle\n",
       "99       100  missing"
      ]
     },
     "metadata": {},
     "output_type": "display_data"
    },
    {
     "data": {
      "text/html": [
       "<div>\n",
       "<style scoped>\n",
       "    .dataframe tbody tr th:only-of-type {\n",
       "        vertical-align: middle;\n",
       "    }\n",
       "\n",
       "    .dataframe tbody tr th {\n",
       "        vertical-align: top;\n",
       "    }\n",
       "\n",
       "    .dataframe thead th {\n",
       "        text-align: right;\n",
       "    }\n",
       "</style>\n",
       "<table border=\"1\" class=\"dataframe\">\n",
       "  <thead>\n",
       "    <tr style=\"text-align: right;\">\n",
       "      <th></th>\n",
       "      <th>department_id</th>\n",
       "      <th>department</th>\n",
       "    </tr>\n",
       "  </thead>\n",
       "  <tbody>\n",
       "    <tr>\n",
       "      <th>20</th>\n",
       "      <td>21</td>\n",
       "      <td>missing</td>\n",
       "    </tr>\n",
       "  </tbody>\n",
       "</table>\n",
       "</div>"
      ],
      "text/plain": [
       "    department_id department\n",
       "20             21    missing"
      ]
     },
     "metadata": {},
     "output_type": "display_data"
    }
   ],
   "source": [
    "# What is this ailse and department?\n",
    "display(aisles[aisles['aisle_id'] == 100])\n",
    "display(departments[departments['department_id'] == 21])"
   ]
  },
  {
   "cell_type": "code",
   "execution_count": 27,
   "id": "6b295120",
   "metadata": {},
   "outputs": [],
   "source": [
    "# Fill missing product names with 'Unknown'\n",
    "products['product_name'] = products['product_name'].fillna('Unknown')"
   ]
  },
  {
   "cell_type": "markdown",
   "id": "fc70e5ad",
   "metadata": {},
   "source": [
    "<div class=\"alert alert-block alert-success\">✔️\n",
    "    \n",
    "\n",
    "__Reviewer's comment №1__\n",
    "\n",
    "You chose the most correct way to replace the omissions in the categorical column. Well done!)"
   ]
  },
  {
   "cell_type": "markdown",
   "id": "7eb45c86",
   "metadata": {},
   "source": [
    "### `orders` data frame"
   ]
  },
  {
   "cell_type": "code",
   "execution_count": 28,
   "id": "93e41d96",
   "metadata": {},
   "outputs": [
    {
     "name": "stdout",
     "output_type": "stream",
     "text": [
      "<class 'pandas.core.frame.DataFrame'>\n",
      "Int64Index: 478952 entries, 0 to 478966\n",
      "Data columns (total 6 columns):\n",
      " #   Column                  Non-Null Count   Dtype  \n",
      "---  ------                  --------------   -----  \n",
      " 0   order_id                478952 non-null  int64  \n",
      " 1   user_id                 478952 non-null  int64  \n",
      " 2   order_number            478952 non-null  int64  \n",
      " 3   order_dow               478952 non-null  int64  \n",
      " 4   order_hour_of_day       478952 non-null  int64  \n",
      " 5   days_since_prior_order  450135 non-null  float64\n",
      "dtypes: float64(1), int64(5)\n",
      "memory usage: 25.6 MB\n"
     ]
    }
   ],
   "source": [
    "orders.info()"
   ]
  },
  {
   "cell_type": "code",
   "execution_count": 29,
   "id": "166e5a86",
   "metadata": {},
   "outputs": [
    {
     "data": {
      "text/html": [
       "<div>\n",
       "<style scoped>\n",
       "    .dataframe tbody tr th:only-of-type {\n",
       "        vertical-align: middle;\n",
       "    }\n",
       "\n",
       "    .dataframe tbody tr th {\n",
       "        vertical-align: top;\n",
       "    }\n",
       "\n",
       "    .dataframe thead th {\n",
       "        text-align: right;\n",
       "    }\n",
       "</style>\n",
       "<table border=\"1\" class=\"dataframe\">\n",
       "  <thead>\n",
       "    <tr style=\"text-align: right;\">\n",
       "      <th></th>\n",
       "      <th>order_id</th>\n",
       "      <th>user_id</th>\n",
       "      <th>order_number</th>\n",
       "      <th>order_dow</th>\n",
       "      <th>order_hour_of_day</th>\n",
       "      <th>days_since_prior_order</th>\n",
       "    </tr>\n",
       "  </thead>\n",
       "  <tbody>\n",
       "  </tbody>\n",
       "</table>\n",
       "</div>"
      ],
      "text/plain": [
       "Empty DataFrame\n",
       "Columns: [order_id, user_id, order_number, order_dow, order_hour_of_day, days_since_prior_order]\n",
       "Index: []"
      ]
     },
     "execution_count": 29,
     "metadata": {},
     "output_type": "execute_result"
    }
   ],
   "source": [
    "# Are there any missing values where it's not a customer's first order?\n",
    "orders[orders['days_since_prior_order'].isnull() & (orders['order_number'] > 1)]"
   ]
  },
  {
   "cell_type": "markdown",
   "id": "4e23d089",
   "metadata": {},
   "source": []
  },
  {
   "cell_type": "markdown",
   "id": "69dc9ca4",
   "metadata": {},
   "source": [
    "### `order_products` data frame"
   ]
  },
  {
   "cell_type": "code",
   "execution_count": 30,
   "id": "b8240253",
   "metadata": {},
   "outputs": [
    {
     "name": "stdout",
     "output_type": "stream",
     "text": [
      "<class 'pandas.core.frame.DataFrame'>\n",
      "RangeIndex: 4545007 entries, 0 to 4545006\n",
      "Data columns (total 4 columns):\n",
      " #   Column             Non-Null Count    Dtype  \n",
      "---  ------             --------------    -----  \n",
      " 0   order_id           4545007 non-null  int64  \n",
      " 1   product_id         4545007 non-null  int64  \n",
      " 2   add_to_cart_order  4544171 non-null  float64\n",
      " 3   reordered          4545007 non-null  int64  \n",
      "dtypes: float64(1), int64(3)\n",
      "memory usage: 138.7 MB\n"
     ]
    },
    {
     "data": {
      "text/plain": [
       "order_id               0\n",
       "product_id             0\n",
       "add_to_cart_order    836\n",
       "reordered              0\n",
       "dtype: int64"
      ]
     },
     "execution_count": 30,
     "metadata": {},
     "output_type": "execute_result"
    }
   ],
   "source": [
    "order_products.info(show_counts=True)\n",
    "\n",
    "order_products.isnull().sum()"
   ]
  },
  {
   "cell_type": "code",
   "execution_count": 31,
   "id": "9a78e5ee",
   "metadata": {},
   "outputs": [
    {
     "data": {
      "text/plain": [
       "(1.0, 64.0)"
      ]
     },
     "execution_count": 31,
     "metadata": {},
     "output_type": "execute_result"
    }
   ],
   "source": [
    "# What are the min and max values in this column?\n",
    "order_products['add_to_cart_order'].min(), order_products['add_to_cart_order'].max()"
   ]
  },
  {
   "cell_type": "code",
   "execution_count": 32,
   "id": "ab9d0c2b",
   "metadata": {},
   "outputs": [],
   "source": [
    "# Save all order IDs with at least one missing value in 'add_to_cart_order'\n",
    "missing_cart_order = order_products[order_products['add_to_cart_order'].isnull()]['order_id']"
   ]
  },
  {
   "cell_type": "code",
   "execution_count": 33,
   "id": "54c31695",
   "metadata": {},
   "outputs": [
    {
     "data": {
      "text/plain": [
       "61355      127\n",
       "3308010    115\n",
       "2136777    108\n",
       "171934     104\n",
       "1959075     98\n",
       "1730767     95\n",
       "102236      95\n",
       "1800005     92\n",
       "2926893     92\n",
       "264710      91\n",
       "Name: order_id, dtype: int64"
      ]
     },
     "metadata": {},
     "output_type": "display_data"
    },
    {
     "data": {
      "text/plain": [
       "65"
      ]
     },
     "execution_count": 33,
     "metadata": {},
     "output_type": "execute_result"
    }
   ],
   "source": [
    "# Do all orders with missing values have more than 64 products?\n",
    "display(order_products[order_products['order_id'].isin(missing_cart_order)]['order_id'].value_counts().head(10))\n",
    "order_products[order_products['order_id'].isin(missing_cart_order)]['order_id'].value_counts().min()"
   ]
  },
  {
   "cell_type": "code",
   "execution_count": 34,
   "id": "7a987d08",
   "metadata": {},
   "outputs": [
    {
     "data": {
      "text/plain": [
       "order_id             0\n",
       "product_id           0\n",
       "add_to_cart_order    0\n",
       "reordered            0\n",
       "dtype: int64"
      ]
     },
     "execution_count": 34,
     "metadata": {},
     "output_type": "execute_result"
    }
   ],
   "source": [
    "# Replace missing values with 999 and convert column to integer type\n",
    "order_products['add_to_cart_order'] = order_products['add_to_cart_order'].fillna(999).astype(int)\n",
    "\n",
    "order_products.isnull().sum()"
   ]
  },
  {
   "cell_type": "markdown",
   "id": "6eb29abf",
   "metadata": {},
   "source": [
    "<div class=\"alert alert-block alert-warning\">📝\n",
    "    \n",
    "\n",
    "__Reviewer's comment №1__\n",
    "\n",
    "\n",
    "Replacing it with 999/-1 etc is not really good. Tip for the future, look, it's not good to try to fill in the blanks left and right. In real work - replace with zero now, then forget and average count a month later. Plus there may be times when a bonus purchase or gift, will cost zero. In general, if it is possible to leave skips as skips - and here it can be done, it is better to do so, the results, even if we want to calculate something - it will not affect the results\n",
    "\n",
    "It is better to use this code construction:\n",
    "    \n",
    "    data[''] = data[''].astype('Int64', errors='ignore')\n",
    "</div>"
   ]
  },
  {
   "cell_type": "markdown",
   "id": "fc6197ec",
   "metadata": {},
   "source": [
    "# Conclusion\n",
    "\n",
    "During the data cleaning process, I addressed several data quality issues.\n",
    "\n",
    "First, I eliminated duplicate entries, removing 15 duplicates from the orders dataframe and 1,361 duplicates from the products dataframe (this was done after standardizing the product_name column format). \n",
    "\n",
    "I then handled missing values across both datasets: in the products dataframe, I filled 1,258 missing entries with the string 'unknown', while in the orders dataframe, we replaced 28,819 missing values with the integer 999."
   ]
  },
  {
   "cell_type": "markdown",
   "id": "fea4bcc7",
   "metadata": {},
   "source": []
  },
  {
   "cell_type": "markdown",
   "id": "turkish-kidney",
   "metadata": {},
   "source": [
    "# [A] Easy (must complete all to pass)"
   ]
  },
  {
   "cell_type": "markdown",
   "id": "short-capability",
   "metadata": {},
   "source": [
    "### [A1] Verify that the `'order_hour_of_day'` and `'order_dow'` values in the `orders` tables are sensible (i.e. `'order_hour_of_day'` ranges from 0 to 23 and `'order_dow'` ranges from 0 to 6)"
   ]
  },
  {
   "cell_type": "code",
   "execution_count": 35,
   "id": "growing-fruit",
   "metadata": {},
   "outputs": [
    {
     "data": {
      "text/plain": [
       "0      3180\n",
       "1      1763\n",
       "2       989\n",
       "3       770\n",
       "4       765\n",
       "5      1371\n",
       "6      4215\n",
       "7     13043\n",
       "8     25024\n",
       "9     35896\n",
       "10    40578\n",
       "11    40032\n",
       "12    38034\n",
       "13    39007\n",
       "14    39631\n",
       "15    39789\n",
       "16    38112\n",
       "17    31930\n",
       "18    25510\n",
       "19    19547\n",
       "20    14624\n",
       "21    11019\n",
       "22     8512\n",
       "23     5611\n",
       "Name: order_hour_of_day, dtype: int64"
      ]
     },
     "execution_count": 35,
     "metadata": {},
     "output_type": "execute_result"
    }
   ],
   "source": [
    "orders['order_hour_of_day'].value_counts().sort_index()"
   ]
  },
  {
   "cell_type": "code",
   "execution_count": 36,
   "id": "accessory-malaysia",
   "metadata": {},
   "outputs": [
    {
     "data": {
      "text/plain": [
       "0    84090\n",
       "1    82185\n",
       "2    65833\n",
       "3    60897\n",
       "4    59810\n",
       "5    63488\n",
       "6    62649\n",
       "Name: order_dow, dtype: int64"
      ]
     },
     "execution_count": 36,
     "metadata": {},
     "output_type": "execute_result"
    }
   ],
   "source": [
    "orders['order_dow'].value_counts().sort_index()"
   ]
  },
  {
   "cell_type": "markdown",
   "id": "a6743a70",
   "metadata": {},
   "source": [
    "### [A2] What time of day do people shop for groceries?"
   ]
  },
  {
   "cell_type": "code",
   "execution_count": 37,
   "id": "a36cca27",
   "metadata": {},
   "outputs": [
    {
     "data": {
      "image/png": "[encoded data removed]",
      "text/plain": [
       "<Figure size 1000x500 with 1 Axes>"
      ]
     },
     "metadata": {},
     "output_type": "display_data"
    }
   ],
   "source": [
    "orders['order_hour_of_day'].value_counts().sort_index().plot.bar(figsize = (10, 5))\n",
    "plt.xlabel('Hour of Day')\n",
    "plt.ylabel('Number of Orders')\n",
    "plt.title('Number of Orders by Hour of Day')\n",
    "plt.show()"
   ]
  },
  {
   "cell_type": "markdown",
   "id": "4ff879a3",
   "metadata": {},
   "source": [
    "As can be seen the most popular time to shop for groceries is between 10am and 4pm. While overnight people rarely order."
   ]
  },
  {
   "cell_type": "markdown",
   "id": "46ea224a",
   "metadata": {},
   "source": [
    "<div class=\"alert alert-block alert-success\">✔️\n",
    "    \n",
    "\n",
    "__Reviewer's comment №2__\n",
    "\n",
    "Now correct"
   ]
  },
  {
   "attachments": {
    "image.png": {
     "image/png": "[encoded data removed]"
    }
   },
   "cell_type": "markdown",
   "id": "e281513d",
   "metadata": {},
   "source": [
    "<div class=\"alert alert-block alert-danger\">✍\n",
    "    \n",
    "\n",
    "__Reviewer's comment №1__\n",
    "\n",
    "It is better after each section, graph (or series of tests) to write a conclusion on the obtained data taking into account the set business task - so it is easier to read the project, because future colleagues or customers will not have to interpret the results of each section, test or graph themselves.\n",
    "    \n",
    "In markdown cell ![image.png](attachment:image.png)    "
   ]
  },
  {
   "cell_type": "markdown",
   "id": "11270eed",
   "metadata": {},
   "source": []
  },
  {
   "cell_type": "markdown",
   "id": "documented-command",
   "metadata": {},
   "source": [
    "### [A3] What day of the week do people shop for groceries?"
   ]
  },
  {
   "cell_type": "code",
   "execution_count": 38,
   "id": "chief-digit",
   "metadata": {},
   "outputs": [
    {
     "data": {
      "image/png": "[encoded data removed]",
      "text/plain": [
       "<Figure size 1000x500 with 1 Axes>"
      ]
     },
     "metadata": {},
     "output_type": "display_data"
    }
   ],
   "source": [
    "orders['order_dow'].value_counts().sort_index().plot.bar(figsize = (10, 5))\n",
    "plt.xlabel('Day of Week')\n",
    "plt.ylabel('Number of Orders')\n",
    "plt.title('Number of Orders by Day of Week')\n",
    "plt.show()"
   ]
  },
  {
   "cell_type": "markdown",
   "id": "54da1b43",
   "metadata": {},
   "source": [
    "As can be seen the most popular days to shop for groceries is Sunday and Monday. While Wednesday and Thursday are the least popular days to shop for groceries."
   ]
  },
  {
   "cell_type": "markdown",
   "id": "dominant-lightning",
   "metadata": {},
   "source": []
  },
  {
   "cell_type": "markdown",
   "id": "cutting-concert",
   "metadata": {},
   "source": [
    "### [A4] How long do people wait until placing another order?"
   ]
  },
  {
   "cell_type": "code",
   "execution_count": 39,
   "id": "c231f523",
   "metadata": {},
   "outputs": [
    {
     "data": {
      "text/plain": [
       "(0.0, 30.0, 11.101813900274362)"
      ]
     },
     "execution_count": 39,
     "metadata": {},
     "output_type": "execute_result"
    }
   ],
   "source": [
    "orders['days_since_prior_order'].min(), orders['days_since_prior_order'].max(), orders['days_since_prior_order'].mean()"
   ]
  },
  {
   "cell_type": "markdown",
   "id": "discrete-vertex",
   "metadata": {},
   "source": []
  },
  {
   "cell_type": "code",
   "execution_count": 40,
   "id": "exciting-fantasy",
   "metadata": {},
   "outputs": [
    {
     "data": {
      "image/png": "[encoded data removed]",
      "text/plain": [
       "<Figure size 1000x500 with 1 Axes>"
      ]
     },
     "metadata": {},
     "output_type": "display_data"
    }
   ],
   "source": [
    "orders['days_since_prior_order'].value_counts().sort_index().plot.bar(figsize = (10, 5))\n",
    "plt.xlabel('Days Since Prior Order')\n",
    "plt.ylabel('Number of Orders')\n",
    "plt.title('Number of Orders by Days Since Prior Order')\n",
    "plt.show()"
   ]
  },
  {
   "cell_type": "markdown",
   "id": "1f8013ec",
   "metadata": {},
   "source": [
    "As can be seen many customers wait 7 days or less before placing another order. While some customers wait longer.\n",
    "After calculating we can see that the average customer wait time is about 11 days to reorder."
   ]
  },
  {
   "cell_type": "markdown",
   "id": "8d926614",
   "metadata": {},
   "source": [
    "<div class=\"alert alert-block alert-success\">✔️\n",
    "    \n",
    "\n",
    "__Reviewer's comment №1__\n",
    "\n",
    "The 0 values probably correspond to customers who placed more than one order on the same day."
   ]
  },
  {
   "cell_type": "markdown",
   "id": "tight-staff",
   "metadata": {},
   "source": [
    "# [B] Medium (must complete all to pass)"
   ]
  },
  {
   "cell_type": "markdown",
   "id": "packed-classic",
   "metadata": {},
   "source": [
    "### [B1] Is there a difference in `'order_hour_of_day'` distributions on Wednesdays and Saturdays? Plot the histograms for both days and describe the differences that you see."
   ]
  },
  {
   "cell_type": "code",
   "execution_count": 41,
   "id": "d89b8403",
   "metadata": {},
   "outputs": [
    {
     "data": {
      "image/png": "[encoded data removed]",
      "text/plain": [
       "<Figure size 640x480 with 1 Axes>"
      ]
     },
     "metadata": {},
     "output_type": "display_data"
    }
   ],
   "source": [
    "b, bins, patches = plt.hist(\n",
    "    [orders[orders['order_dow'] == 3]['order_hour_of_day'], orders[orders['order_dow'] == 6]['order_hour_of_day']],\n",
    "    bins = 24,\n",
    "    label = ['Wednesday', 'Saturday'],\n",
    ")\n",
    "plt.legend()\n",
    "plt.xlabel('Hour of Day')\n",
    "plt.ylabel('Number of Orders')\n",
    "plt.title('Number of Orders by Hour of Day on Wednesdays and Saturdays')\n",
    "plt.show()"
   ]
  },
  {
   "cell_type": "markdown",
   "id": "fad3cf89",
   "metadata": {},
   "source": [
    "AS a whole the number of orders seems to stay the same, however an increase in orders can be seen on saturday around lunchtime/early afternoon "
   ]
  },
  {
   "cell_type": "markdown",
   "id": "charitable-congo",
   "metadata": {},
   "source": []
  },
  {
   "cell_type": "markdown",
   "id": "e3891143",
   "metadata": {},
   "source": [
    "### [B2] What's the distribution for the number of orders per customer?"
   ]
  },
  {
   "cell_type": "code",
   "execution_count": 42,
   "id": "d8c26c23",
   "metadata": {},
   "outputs": [
    {
     "data": {
      "image/png": "[encoded data removed]",
      "text/plain": [
       "<Figure size 1000x500 with 1 Axes>"
      ]
     },
     "metadata": {},
     "output_type": "display_data"
    }
   ],
   "source": [
    "orders.groupby('user_id')['order_id'].nunique().plot.hist(bins = 25, figsize = (10, 5))\n",
    "plt.xlabel('Number of Orders')\n",
    "plt.ylabel('Number of Customers')\n",
    "plt.title('Number of Orders per Customer')\n",
    "plt.show()"
   ]
  },
  {
   "cell_type": "code",
   "execution_count": 43,
   "id": "00e69a66",
   "metadata": {},
   "outputs": [
    {
     "data": {
      "text/plain": [
       "4    12368\n",
       "3    10510\n",
       "5    10406\n",
       "6     9194\n",
       "2     9113\n",
       "Name: order_number, dtype: int64"
      ]
     },
     "metadata": {},
     "output_type": "display_data"
    },
    {
     "data": {
      "text/plain": [
       "15.577570710824013"
      ]
     },
     "metadata": {},
     "output_type": "display_data"
    }
   ],
   "source": [
    "display(orders.groupby('user_id')['order_number'].max().value_counts().head(5))\n",
    "display(orders.groupby('user_id')['order_number'].max().mean())"
   ]
  },
  {
   "cell_type": "markdown",
   "id": "f65b0de4",
   "metadata": {},
   "source": [
    "As we can see, the distribution for the number of orders per customers is skewed to the right. Where the top 5 number of orders per customer is 4, 3, 5, 6, and 2. We can also determind after calculating that the average number of orders per customer is 15."
   ]
  },
  {
   "cell_type": "markdown",
   "id": "d2eff7d5",
   "metadata": {},
   "source": []
  },
  {
   "cell_type": "markdown",
   "id": "54a0319c",
   "metadata": {},
   "source": [
    "### [B3] What are the top 20 popular products (display their id and name)?"
   ]
  },
  {
   "cell_type": "code",
   "execution_count": 44,
   "id": "exterior-arizona",
   "metadata": {
    "scrolled": true
   },
   "outputs": [
    {
     "data": {
      "text/html": [
       "<div>\n",
       "<style scoped>\n",
       "    .dataframe tbody tr th:only-of-type {\n",
       "        vertical-align: middle;\n",
       "    }\n",
       "\n",
       "    .dataframe tbody tr th {\n",
       "        vertical-align: top;\n",
       "    }\n",
       "\n",
       "    .dataframe thead th {\n",
       "        text-align: right;\n",
       "    }\n",
       "</style>\n",
       "<table border=\"1\" class=\"dataframe\">\n",
       "  <thead>\n",
       "    <tr style=\"text-align: right;\">\n",
       "      <th></th>\n",
       "      <th>order_id</th>\n",
       "      <th>product_id</th>\n",
       "      <th>add_to_cart_order</th>\n",
       "      <th>reordered</th>\n",
       "      <th>product_name</th>\n",
       "      <th>aisle_id</th>\n",
       "      <th>department_id</th>\n",
       "    </tr>\n",
       "  </thead>\n",
       "  <tbody>\n",
       "    <tr>\n",
       "      <th>0</th>\n",
       "      <td>2141543</td>\n",
       "      <td>11440</td>\n",
       "      <td>17</td>\n",
       "      <td>0</td>\n",
       "      <td>Chicken Breast Tenders Breaded</td>\n",
       "      <td>129</td>\n",
       "      <td>1</td>\n",
       "    </tr>\n",
       "    <tr>\n",
       "      <th>1</th>\n",
       "      <td>567889</td>\n",
       "      <td>1560</td>\n",
       "      <td>1</td>\n",
       "      <td>1</td>\n",
       "      <td>Bag Of Ice</td>\n",
       "      <td>37</td>\n",
       "      <td>1</td>\n",
       "    </tr>\n",
       "    <tr>\n",
       "      <th>2</th>\n",
       "      <td>2261212</td>\n",
       "      <td>26683</td>\n",
       "      <td>1</td>\n",
       "      <td>1</td>\n",
       "      <td>Cafe Latte Pure Lightly Sweetened Iced Coffee ...</td>\n",
       "      <td>91</td>\n",
       "      <td>16</td>\n",
       "    </tr>\n",
       "    <tr>\n",
       "      <th>3</th>\n",
       "      <td>491251</td>\n",
       "      <td>8670</td>\n",
       "      <td>35</td>\n",
       "      <td>1</td>\n",
       "      <td>Diced Tomatoes</td>\n",
       "      <td>81</td>\n",
       "      <td>15</td>\n",
       "    </tr>\n",
       "    <tr>\n",
       "      <th>4</th>\n",
       "      <td>2571142</td>\n",
       "      <td>1940</td>\n",
       "      <td>5</td>\n",
       "      <td>1</td>\n",
       "      <td>Organic 2% Reduced Fat Milk</td>\n",
       "      <td>84</td>\n",
       "      <td>16</td>\n",
       "    </tr>\n",
       "  </tbody>\n",
       "</table>\n",
       "</div>"
      ],
      "text/plain": [
       "   order_id  product_id  add_to_cart_order  reordered  \\\n",
       "0   2141543       11440                 17          0   \n",
       "1    567889        1560                  1          1   \n",
       "2   2261212       26683                  1          1   \n",
       "3    491251        8670                 35          1   \n",
       "4   2571142        1940                  5          1   \n",
       "\n",
       "                                        product_name  aisle_id  department_id  \n",
       "0                     Chicken Breast Tenders Breaded       129              1  \n",
       "1                                         Bag Of Ice        37              1  \n",
       "2  Cafe Latte Pure Lightly Sweetened Iced Coffee ...        91             16  \n",
       "3                                     Diced Tomatoes        81             15  \n",
       "4                        Organic 2% Reduced Fat Milk        84             16  "
      ]
     },
     "execution_count": 44,
     "metadata": {},
     "output_type": "execute_result"
    }
   ],
   "source": [
    "merged_products = pd.merge(order_products, products, on = 'product_id', how = 'left')\n",
    "merged_products.head()"
   ]
  },
  {
   "cell_type": "code",
   "execution_count": 45,
   "id": "universal-facial",
   "metadata": {},
   "outputs": [
    {
     "data": {
      "text/plain": [
       "product_name              product_id\n",
       "Banana                    24852         66050\n",
       "Bag of Organic Bananas    13176         53297\n",
       "Organic Strawberries      21137         37039\n",
       "Organic Baby Spinach      21903         33971\n",
       "Organic Hass Avocado      47209         29773\n",
       "Organic Avocado           47766         24689\n",
       "Large Lemon               47626         21495\n",
       "Strawberries              16797         20018\n",
       "Limes                     26209         19690\n",
       "Organic Whole Milk        27845         19600\n",
       "Organic Raspberries       27966         19197\n",
       "Organic Yellow Onion      22935         15898\n",
       "Organic Garlic            24964         15292\n",
       "Organic Zucchini          45007         14584\n",
       "Organic Blueberries       39275         13879\n",
       "Cucumber Kirby            49683         13675\n",
       "Organic Fuji Apple        28204         12544\n",
       "Organic Lemon             5876          12232\n",
       "Apple Honeycrisp Organic  8277          11993\n",
       "Organic Grape Tomatoes    40706         11781\n",
       "Name: product_name, dtype: int64"
      ]
     },
     "execution_count": 45,
     "metadata": {},
     "output_type": "execute_result"
    }
   ],
   "source": [
    "merged_products.groupby(['product_name', 'product_id'])['product_name'].count().sort_values(ascending = False).head(20)"
   ]
  },
  {
   "cell_type": "markdown",
   "id": "2749e4e9",
   "metadata": {},
   "source": [
    "We can see from looking at the top 20 popular products that the top 5 products are bananas, bag of organic bananas, organic strawberries, organic baby spinach, and organic hass avocado. After that the top 20 products are a mix of fruits and vegetables"
   ]
  },
  {
   "cell_type": "markdown",
   "id": "7df00f47",
   "metadata": {},
   "source": []
  },
  {
   "cell_type": "markdown",
   "id": "gross-theme",
   "metadata": {},
   "source": [
    "# [C] Hard (must complete at least two to pass)"
   ]
  },
  {
   "cell_type": "markdown",
   "id": "romantic-deposit",
   "metadata": {},
   "source": [
    "### [C1] How many items do people typically buy in one order? What does the distribution look like?"
   ]
  },
  {
   "cell_type": "code",
   "execution_count": 46,
   "id": "virtual-punch",
   "metadata": {},
   "outputs": [
    {
     "data": {
      "text/html": [
       "<div>\n",
       "<style scoped>\n",
       "    .dataframe tbody tr th:only-of-type {\n",
       "        vertical-align: middle;\n",
       "    }\n",
       "\n",
       "    .dataframe tbody tr th {\n",
       "        vertical-align: top;\n",
       "    }\n",
       "\n",
       "    .dataframe thead th {\n",
       "        text-align: right;\n",
       "    }\n",
       "</style>\n",
       "<table border=\"1\" class=\"dataframe\">\n",
       "  <thead>\n",
       "    <tr style=\"text-align: right;\">\n",
       "      <th></th>\n",
       "      <th>order_id</th>\n",
       "      <th>user_id</th>\n",
       "      <th>order_number</th>\n",
       "      <th>order_dow</th>\n",
       "      <th>order_hour_of_day</th>\n",
       "      <th>days_since_prior_order</th>\n",
       "      <th>product_id</th>\n",
       "      <th>add_to_cart_order</th>\n",
       "      <th>reordered</th>\n",
       "    </tr>\n",
       "  </thead>\n",
       "  <tbody>\n",
       "    <tr>\n",
       "      <th>0</th>\n",
       "      <td>1515936</td>\n",
       "      <td>183418</td>\n",
       "      <td>11</td>\n",
       "      <td>6</td>\n",
       "      <td>13</td>\n",
       "      <td>30.0</td>\n",
       "      <td>19048.0</td>\n",
       "      <td>1.0</td>\n",
       "      <td>1.0</td>\n",
       "    </tr>\n",
       "    <tr>\n",
       "      <th>1</th>\n",
       "      <td>1515936</td>\n",
       "      <td>183418</td>\n",
       "      <td>11</td>\n",
       "      <td>6</td>\n",
       "      <td>13</td>\n",
       "      <td>30.0</td>\n",
       "      <td>47766.0</td>\n",
       "      <td>3.0</td>\n",
       "      <td>1.0</td>\n",
       "    </tr>\n",
       "    <tr>\n",
       "      <th>2</th>\n",
       "      <td>1515936</td>\n",
       "      <td>183418</td>\n",
       "      <td>11</td>\n",
       "      <td>6</td>\n",
       "      <td>13</td>\n",
       "      <td>30.0</td>\n",
       "      <td>45066.0</td>\n",
       "      <td>9.0</td>\n",
       "      <td>0.0</td>\n",
       "    </tr>\n",
       "    <tr>\n",
       "      <th>3</th>\n",
       "      <td>1515936</td>\n",
       "      <td>183418</td>\n",
       "      <td>11</td>\n",
       "      <td>6</td>\n",
       "      <td>13</td>\n",
       "      <td>30.0</td>\n",
       "      <td>24082.0</td>\n",
       "      <td>11.0</td>\n",
       "      <td>0.0</td>\n",
       "    </tr>\n",
       "    <tr>\n",
       "      <th>4</th>\n",
       "      <td>1515936</td>\n",
       "      <td>183418</td>\n",
       "      <td>11</td>\n",
       "      <td>6</td>\n",
       "      <td>13</td>\n",
       "      <td>30.0</td>\n",
       "      <td>24363.0</td>\n",
       "      <td>4.0</td>\n",
       "      <td>0.0</td>\n",
       "    </tr>\n",
       "  </tbody>\n",
       "</table>\n",
       "</div>"
      ],
      "text/plain": [
       "   order_id  user_id  order_number  order_dow  order_hour_of_day  \\\n",
       "0   1515936   183418            11          6                 13   \n",
       "1   1515936   183418            11          6                 13   \n",
       "2   1515936   183418            11          6                 13   \n",
       "3   1515936   183418            11          6                 13   \n",
       "4   1515936   183418            11          6                 13   \n",
       "\n",
       "   days_since_prior_order  product_id  add_to_cart_order  reordered  \n",
       "0                    30.0     19048.0                1.0        1.0  \n",
       "1                    30.0     47766.0                3.0        1.0  \n",
       "2                    30.0     45066.0                9.0        0.0  \n",
       "3                    30.0     24082.0               11.0        0.0  \n",
       "4                    30.0     24363.0                4.0        0.0  "
      ]
     },
     "metadata": {},
     "output_type": "display_data"
    }
   ],
   "source": [
    "orders_frequency = pd.merge(orders, order_products, on = 'order_id', how = 'left')\n",
    "orders_frequency.reset_index()\n",
    "display(orders_frequency.head())"
   ]
  },
  {
   "cell_type": "code",
   "execution_count": 47,
   "id": "sensitive-breathing",
   "metadata": {},
   "outputs": [
    {
     "data": {
      "text/plain": [
       "9.54983589169687"
      ]
     },
     "execution_count": 47,
     "metadata": {},
     "output_type": "execute_result"
    }
   ],
   "source": [
    "orders_frequency['order_id'].value_counts().mean()"
   ]
  },
  {
   "cell_type": "code",
   "execution_count": 48,
   "id": "completed-frank",
   "metadata": {},
   "outputs": [
    {
     "data": {
      "image/png": "[encoded data removed]",
      "text/plain": [
       "<Figure size 1000x500 with 1 Axes>"
      ]
     },
     "metadata": {},
     "output_type": "display_data"
    }
   ],
   "source": [
    "orders_frequency['order_id'].value_counts().plot.hist(bins = 20, figsize = (10, 5))\n",
    "plt.xlabel('Number of Items')\n",
    "plt.ylabel('Number of Orders')\n",
    "plt.title('Number of Items per Order')\n",
    "plt.show()"
   ]
  },
  {
   "cell_type": "markdown",
   "id": "designed-mortality",
   "metadata": {},
   "source": []
  },
  {
   "cell_type": "markdown",
   "id": "5e6b5537",
   "metadata": {},
   "source": [
    "### [C2] What are the top 20 items that are reordered most frequently (display their names and product IDs)?"
   ]
  },
  {
   "cell_type": "code",
   "execution_count": 49,
   "id": "9374e55a",
   "metadata": {},
   "outputs": [
    {
     "data": {
      "text/plain": [
       "product_name              product_id\n",
       "Banana                    24852         55763\n",
       "Bag of Organic Bananas    13176         44450\n",
       "Organic Strawberries      21137         28639\n",
       "Organic Baby Spinach      21903         26233\n",
       "Organic Hass Avocado      47209         23629\n",
       "Organic Avocado           47766         18743\n",
       "Organic Whole Milk        27845         16251\n",
       "Large Lemon               47626         15044\n",
       "Organic Raspberries       27966         14748\n",
       "Strawberries              16797         13945\n",
       "Limes                     26209         13327\n",
       "Organic Yellow Onion      22935         11145\n",
       "Organic Garlic            24964         10411\n",
       "Organic Zucchini          45007         10076\n",
       "Cucumber Kirby            49683          9538\n",
       "Organic Fuji Apple        28204          8989\n",
       "Apple Honeycrisp Organic  8277           8836\n",
       "Organic Blueberries       39275          8799\n",
       "Organic Lemon             5876           8412\n",
       "Organic Half & Half       49235          8389\n",
       "Name: reordered, dtype: int64"
      ]
     },
     "execution_count": 49,
     "metadata": {},
     "output_type": "execute_result"
    }
   ],
   "source": [
    "merged_products.groupby(['product_name', 'product_id'])['reordered'].sum().sort_values(ascending = False).head(20)"
   ]
  },
  {
   "cell_type": "markdown",
   "id": "80e70c74",
   "metadata": {},
   "source": []
  },
  {
   "cell_type": "markdown",
   "id": "9d312b14",
   "metadata": {},
   "source": [
    "### [C3] For each product, what proportion of its orders are reorders?"
   ]
  },
  {
   "cell_type": "code",
   "execution_count": 50,
   "id": "8ae9f4b1",
   "metadata": {},
   "outputs": [
    {
     "data": {
      "text/html": [
       "<div>\n",
       "<style scoped>\n",
       "    .dataframe tbody tr th:only-of-type {\n",
       "        vertical-align: middle;\n",
       "    }\n",
       "\n",
       "    .dataframe tbody tr th {\n",
       "        vertical-align: top;\n",
       "    }\n",
       "\n",
       "    .dataframe thead th {\n",
       "        text-align: right;\n",
       "    }\n",
       "</style>\n",
       "<table border=\"1\" class=\"dataframe\">\n",
       "  <thead>\n",
       "    <tr style=\"text-align: right;\">\n",
       "      <th></th>\n",
       "      <th>order_id</th>\n",
       "      <th>product_id</th>\n",
       "      <th>add_to_cart_order</th>\n",
       "      <th>reordered</th>\n",
       "      <th>product_name</th>\n",
       "      <th>aisle_id</th>\n",
       "      <th>department_id</th>\n",
       "    </tr>\n",
       "  </thead>\n",
       "  <tbody>\n",
       "    <tr>\n",
       "      <th>0</th>\n",
       "      <td>2141543</td>\n",
       "      <td>11440</td>\n",
       "      <td>17</td>\n",
       "      <td>0</td>\n",
       "      <td>Chicken Breast Tenders Breaded</td>\n",
       "      <td>129</td>\n",
       "      <td>1</td>\n",
       "    </tr>\n",
       "    <tr>\n",
       "      <th>1</th>\n",
       "      <td>567889</td>\n",
       "      <td>1560</td>\n",
       "      <td>1</td>\n",
       "      <td>1</td>\n",
       "      <td>Bag Of Ice</td>\n",
       "      <td>37</td>\n",
       "      <td>1</td>\n",
       "    </tr>\n",
       "    <tr>\n",
       "      <th>2</th>\n",
       "      <td>2261212</td>\n",
       "      <td>26683</td>\n",
       "      <td>1</td>\n",
       "      <td>1</td>\n",
       "      <td>Cafe Latte Pure Lightly Sweetened Iced Coffee ...</td>\n",
       "      <td>91</td>\n",
       "      <td>16</td>\n",
       "    </tr>\n",
       "    <tr>\n",
       "      <th>3</th>\n",
       "      <td>491251</td>\n",
       "      <td>8670</td>\n",
       "      <td>35</td>\n",
       "      <td>1</td>\n",
       "      <td>Diced Tomatoes</td>\n",
       "      <td>81</td>\n",
       "      <td>15</td>\n",
       "    </tr>\n",
       "    <tr>\n",
       "      <th>4</th>\n",
       "      <td>2571142</td>\n",
       "      <td>1940</td>\n",
       "      <td>5</td>\n",
       "      <td>1</td>\n",
       "      <td>Organic 2% Reduced Fat Milk</td>\n",
       "      <td>84</td>\n",
       "      <td>16</td>\n",
       "    </tr>\n",
       "  </tbody>\n",
       "</table>\n",
       "</div>"
      ],
      "text/plain": [
       "   order_id  product_id  add_to_cart_order  reordered  \\\n",
       "0   2141543       11440                 17          0   \n",
       "1    567889        1560                  1          1   \n",
       "2   2261212       26683                  1          1   \n",
       "3    491251        8670                 35          1   \n",
       "4   2571142        1940                  5          1   \n",
       "\n",
       "                                        product_name  aisle_id  department_id  \n",
       "0                     Chicken Breast Tenders Breaded       129              1  \n",
       "1                                         Bag Of Ice        37              1  \n",
       "2  Cafe Latte Pure Lightly Sweetened Iced Coffee ...        91             16  \n",
       "3                                     Diced Tomatoes        81             15  \n",
       "4                        Organic 2% Reduced Fat Milk        84             16  "
      ]
     },
     "execution_count": 50,
     "metadata": {},
     "output_type": "execute_result"
    }
   ],
   "source": [
    "product_reorder = pd.merge(order_products, products, on = 'product_id', how = 'left')\n",
    "product_reorder.head()"
   ]
  },
  {
   "cell_type": "markdown",
   "id": "subject-boxing",
   "metadata": {},
   "source": [
    "### [C4] For each customer, what proportion of their products ordered are reorders?"
   ]
  },
  {
   "cell_type": "code",
   "execution_count": 51,
   "id": "medical-couple",
   "metadata": {
    "scrolled": true
   },
   "outputs": [
    {
     "data": {
      "text/html": [
       "<div>\n",
       "<style scoped>\n",
       "    .dataframe tbody tr th:only-of-type {\n",
       "        vertical-align: middle;\n",
       "    }\n",
       "\n",
       "    .dataframe tbody tr th {\n",
       "        vertical-align: top;\n",
       "    }\n",
       "\n",
       "    .dataframe thead th {\n",
       "        text-align: right;\n",
       "    }\n",
       "</style>\n",
       "<table border=\"1\" class=\"dataframe\">\n",
       "  <thead>\n",
       "    <tr style=\"text-align: right;\">\n",
       "      <th></th>\n",
       "      <th>order_id</th>\n",
       "      <th>user_id</th>\n",
       "      <th>order_number</th>\n",
       "      <th>order_dow</th>\n",
       "      <th>order_hour_of_day</th>\n",
       "      <th>days_since_prior_order</th>\n",
       "      <th>product_id</th>\n",
       "      <th>add_to_cart_order</th>\n",
       "      <th>reordered</th>\n",
       "    </tr>\n",
       "  </thead>\n",
       "  <tbody>\n",
       "    <tr>\n",
       "      <th>0</th>\n",
       "      <td>1515936</td>\n",
       "      <td>183418</td>\n",
       "      <td>11</td>\n",
       "      <td>6</td>\n",
       "      <td>13</td>\n",
       "      <td>30.0</td>\n",
       "      <td>19048.0</td>\n",
       "      <td>1.0</td>\n",
       "      <td>1.0</td>\n",
       "    </tr>\n",
       "    <tr>\n",
       "      <th>1</th>\n",
       "      <td>1515936</td>\n",
       "      <td>183418</td>\n",
       "      <td>11</td>\n",
       "      <td>6</td>\n",
       "      <td>13</td>\n",
       "      <td>30.0</td>\n",
       "      <td>47766.0</td>\n",
       "      <td>3.0</td>\n",
       "      <td>1.0</td>\n",
       "    </tr>\n",
       "    <tr>\n",
       "      <th>2</th>\n",
       "      <td>1515936</td>\n",
       "      <td>183418</td>\n",
       "      <td>11</td>\n",
       "      <td>6</td>\n",
       "      <td>13</td>\n",
       "      <td>30.0</td>\n",
       "      <td>45066.0</td>\n",
       "      <td>9.0</td>\n",
       "      <td>0.0</td>\n",
       "    </tr>\n",
       "    <tr>\n",
       "      <th>3</th>\n",
       "      <td>1515936</td>\n",
       "      <td>183418</td>\n",
       "      <td>11</td>\n",
       "      <td>6</td>\n",
       "      <td>13</td>\n",
       "      <td>30.0</td>\n",
       "      <td>24082.0</td>\n",
       "      <td>11.0</td>\n",
       "      <td>0.0</td>\n",
       "    </tr>\n",
       "    <tr>\n",
       "      <th>4</th>\n",
       "      <td>1515936</td>\n",
       "      <td>183418</td>\n",
       "      <td>11</td>\n",
       "      <td>6</td>\n",
       "      <td>13</td>\n",
       "      <td>30.0</td>\n",
       "      <td>24363.0</td>\n",
       "      <td>4.0</td>\n",
       "      <td>0.0</td>\n",
       "    </tr>\n",
       "  </tbody>\n",
       "</table>\n",
       "</div>"
      ],
      "text/plain": [
       "   order_id  user_id  order_number  order_dow  order_hour_of_day  \\\n",
       "0   1515936   183418            11          6                 13   \n",
       "1   1515936   183418            11          6                 13   \n",
       "2   1515936   183418            11          6                 13   \n",
       "3   1515936   183418            11          6                 13   \n",
       "4   1515936   183418            11          6                 13   \n",
       "\n",
       "   days_since_prior_order  product_id  add_to_cart_order  reordered  \n",
       "0                    30.0     19048.0                1.0        1.0  \n",
       "1                    30.0     47766.0                3.0        1.0  \n",
       "2                    30.0     45066.0                9.0        0.0  \n",
       "3                    30.0     24082.0               11.0        0.0  \n",
       "4                    30.0     24363.0                4.0        0.0  "
      ]
     },
     "execution_count": 51,
     "metadata": {},
     "output_type": "execute_result"
    }
   ],
   "source": [
    "customer_reorder = pd.merge(orders, order_products, on = 'order_id', how = 'left')\n",
    "customer_reorder.head()"
   ]
  },
  {
   "cell_type": "markdown",
   "id": "92d35137",
   "metadata": {},
   "source": [
    "### [C5] What are the top 20 items that people put in their carts first? "
   ]
  },
  {
   "cell_type": "code",
   "execution_count": null,
   "id": "0ae57274",
   "metadata": {
    "scrolled": true
   },
   "outputs": [],
   "source": []
  },
  {
   "cell_type": "code",
   "execution_count": null,
   "id": "forty-netherlands",
   "metadata": {
    "scrolled": true
   },
   "outputs": [],
   "source": []
  },
  {
   "cell_type": "code",
   "execution_count": null,
   "id": "08e41ec2",
   "metadata": {},
   "outputs": [],
   "source": []
  },
  {
   "cell_type": "markdown",
   "id": "805f9996",
   "metadata": {},
   "source": [
    "Conclusion \n",
    "\n",
    "The goal of this project was to provide an analysis on data provided by Instacart, a grocery delivery platform. The primary goal was to clean the data and derive meaningful insights into the shopping behaviors of Instacart's customers.\n",
    "\n",
    "In the first part of the project I started by cleaning and preparing the data, which involved handling missing and duplicated values. The datasets used, such as instacart_orders.csv, products.csv, order_products.csv, aisles.csv, and departments.csv, had some inconsistencies that was rectified for a smooth analysis.\n",
    "\n",
    "Findings from the analysis: \n",
    "\n",
    "Customer Shopping Habits\n",
    "\n",
    "1. Peak Shopping Hours: The bulk of grocery shopping is done between 10am and 4pm, with overnight orders being quite rare.\n",
    "\n",
    "2. Frequency of Reordering: Typically, customers wait for about a week to place another order. However, this varies, with the average wait time being around 11 days.\n",
    "\n",
    "3. Ordering Trends During the Week: We observed similar order distributions on Wednesdays and Saturdays, with a slight spike in orders around noon on Saturdays.\n",
    "\n",
    "4. Number of Orders Per Customer: The distribution showed a rightward skew, indicating that a smaller number of customers place a large number of orders. The average number of orders per customer is 15.\n",
    "\n",
    "Popular Products\n",
    "\n",
    "Most Ordered Products: Bananas, organic bananas, organic strawberries, organic baby spinach, and organic hass avocado were the top five most popular products. The remaining top 20 products were a mix of fruits and vegetables.\n",
    "\n",
    "Additional Insights\n",
    "\n",
    "I also investigated the typical number of items per order, the top 20 most frequently reordered items, the ratio of reorders for each product, and the percentage of reorders by each customer. These findings are represented in the corresponding graphs and tables in the notebook.\n",
    "\n",
    "In Conclusion, the EDA provided valuable insights into the shopping habits of Instacart customers, including their preferred shopping times and products. These findings can inform strategic decision-making for Instacart.\n",
    "\n",
    "Future Directions\n",
    "In subsequent stages of the project, the plan is to dive deeper into the data using advanced statistical methods and predictive modeling. This will help us understand patterns and predict future customer behaviors. "
   ]
  },
  {
   "cell_type": "markdown",
   "id": "fe51c7fb",
   "metadata": {},
   "source": [
    "<div class=\"alert alert-block alert-success\">✔️\n",
    "    \n",
    "\n",
    "__Reviewer's comment №3__\n",
    "\n",
    "\n",
    "Otherwise it's great😊. Your project is begging for github =)   \n",
    "    \n",
    "Congratulations on the successful completion of the project 😊👍\n",
    "And I wish you success in new works 😊"
   ]
  },
  {
   "cell_type": "markdown",
   "id": "28ce9872",
   "metadata": {},
   "source": []
  },
  {
   "cell_type": "markdown",
   "id": "0c4a7d10",
   "metadata": {},
   "source": [
    "<div class=\"alert alert-block alert-danger\">✍\n",
    "    \n",
    "\n",
    "__Reviewer's comment №1__\n",
    "\n",
    "In the conclusion of the project, you should aim to summarize the key outcomes, reflect on the objectives you achieved, and highlight the significance of your findings. Consider the following structure:\n",
    "\n",
    "1. **Restate the Project Objectives**: Briefly mention the main goals of your project.\n",
    "2. **Summarize Key Results**: Highlight the most important findings or outcomes you achieved during the project.\n",
    "3. **eflect on Challenges and Learning**: Share any significant challenges you faced and how you overcame them, as well as what you learned during the process.\n",
    "4. **Discuss Impact and Implications**: Explain how your project contributes to the field, solves a problem, or opens new opportunities for further research.\n",
    "5. **End with a Future Outlook**: Mention potential next steps, improvements, or unanswered questions that could be explored in future work.\n",
    "    \n",
    "    \n",
    "For example: *\"In conclusion, this project successfully achieved its objectives by [briefly mention main results]. Despite challenges such as [name challenges], the experience provided valuable insights into [key learnings]. The outcomes contribute to [relevance to field or application], paving the way for future exploration into [potential next steps].\"*"
   ]
  },
  {
   "cell_type": "markdown",
   "id": "71547d52",
   "metadata": {},
   "source": [
    "<div class=\"alert alert-block alert-danger\">✍\n",
    "    \n",
    "\n",
    "__Reviewer's comment №3__\n",
    "\n",
    "\n",
    "We need to describe in text the result of the work (main results. What was conducted in the exploratory analysis, etc.)"
   ]
  },
  {
   "cell_type": "markdown",
   "id": "ed42b7c3",
   "metadata": {},
   "source": []
  }
 ],
 "metadata": {
  "ExecuteTimeLog": [
   {
    "duration": 3,
    "start_time": "2025-01-12T08:56:36.733Z"
   },
   {
    "duration": 7,
    "start_time": "2025-01-12T08:57:36.666Z"
   },
   {
    "duration": 2468,
    "start_time": "2025-01-12T09:17:28.938Z"
   },
   {
    "duration": 580,
    "start_time": "2025-01-12T09:17:31.408Z"
   },
   {
    "duration": 0,
    "start_time": "2025-01-12T09:17:31.991Z"
   },
   {
    "duration": 0,
    "start_time": "2025-01-12T09:17:31.993Z"
   },
   {
    "duration": 0,
    "start_time": "2025-01-12T09:17:31.995Z"
   },
   {
    "duration": 0,
    "start_time": "2025-01-12T09:17:31.996Z"
   },
   {
    "duration": 0,
    "start_time": "2025-01-12T09:17:31.998Z"
   },
   {
    "duration": 0,
    "start_time": "2025-01-12T09:17:32.000Z"
   },
   {
    "duration": 0,
    "start_time": "2025-01-12T09:17:32.001Z"
   },
   {
    "duration": 0,
    "start_time": "2025-01-12T09:17:32.003Z"
   },
   {
    "duration": 0,
    "start_time": "2025-01-12T09:17:32.004Z"
   },
   {
    "duration": 0,
    "start_time": "2025-01-12T09:17:32.005Z"
   },
   {
    "duration": 0,
    "start_time": "2025-01-12T09:17:32.007Z"
   },
   {
    "duration": 0,
    "start_time": "2025-01-12T09:17:32.009Z"
   },
   {
    "duration": 0,
    "start_time": "2025-01-12T09:17:32.010Z"
   },
   {
    "duration": 0,
    "start_time": "2025-01-12T09:17:32.011Z"
   },
   {
    "duration": 0,
    "start_time": "2025-01-12T09:17:32.013Z"
   },
   {
    "duration": 0,
    "start_time": "2025-01-12T09:17:32.014Z"
   },
   {
    "duration": 0,
    "start_time": "2025-01-12T09:17:32.016Z"
   },
   {
    "duration": 0,
    "start_time": "2025-01-12T09:17:32.017Z"
   },
   {
    "duration": 0,
    "start_time": "2025-01-12T09:17:32.019Z"
   },
   {
    "duration": 0,
    "start_time": "2025-01-12T09:17:32.020Z"
   },
   {
    "duration": 0,
    "start_time": "2025-01-12T09:17:32.022Z"
   },
   {
    "duration": 0,
    "start_time": "2025-01-12T09:17:32.070Z"
   },
   {
    "duration": 0,
    "start_time": "2025-01-12T09:17:32.072Z"
   },
   {
    "duration": 1,
    "start_time": "2025-01-12T09:17:32.073Z"
   },
   {
    "duration": 0,
    "start_time": "2025-01-12T09:17:32.075Z"
   },
   {
    "duration": 0,
    "start_time": "2025-01-12T09:17:32.076Z"
   },
   {
    "duration": 0,
    "start_time": "2025-01-12T09:17:32.078Z"
   },
   {
    "duration": 0,
    "start_time": "2025-01-12T09:17:32.081Z"
   },
   {
    "duration": 0,
    "start_time": "2025-01-12T09:17:32.082Z"
   },
   {
    "duration": 0,
    "start_time": "2025-01-12T09:17:32.083Z"
   },
   {
    "duration": 0,
    "start_time": "2025-01-12T09:17:32.084Z"
   },
   {
    "duration": 0,
    "start_time": "2025-01-12T09:17:32.085Z"
   },
   {
    "duration": 0,
    "start_time": "2025-01-12T09:17:32.086Z"
   },
   {
    "duration": 0,
    "start_time": "2025-01-12T09:17:32.088Z"
   },
   {
    "duration": 0,
    "start_time": "2025-01-12T09:17:32.088Z"
   },
   {
    "duration": 0,
    "start_time": "2025-01-12T09:17:32.090Z"
   },
   {
    "duration": 0,
    "start_time": "2025-01-12T09:17:32.091Z"
   },
   {
    "duration": 0,
    "start_time": "2025-01-12T09:17:32.092Z"
   },
   {
    "duration": 0,
    "start_time": "2025-01-12T09:17:32.093Z"
   },
   {
    "duration": 0,
    "start_time": "2025-01-12T09:17:32.094Z"
   },
   {
    "duration": 0,
    "start_time": "2025-01-12T09:17:32.095Z"
   },
   {
    "duration": 0,
    "start_time": "2025-01-12T09:17:32.097Z"
   },
   {
    "duration": 0,
    "start_time": "2025-01-12T09:17:32.098Z"
   },
   {
    "duration": 0,
    "start_time": "2025-01-12T09:17:32.100Z"
   },
   {
    "duration": 61,
    "start_time": "2025-01-12T09:17:52.280Z"
   },
   {
    "duration": 209,
    "start_time": "2025-01-12T09:20:41.779Z"
   },
   {
    "duration": 972,
    "start_time": "2025-01-12T09:21:13.019Z"
   },
   {
    "duration": 2,
    "start_time": "2025-01-12T09:21:26.523Z"
   },
   {
    "duration": 926,
    "start_time": "2025-01-12T09:21:26.529Z"
   },
   {
    "duration": 83,
    "start_time": "2025-01-12T09:21:27.457Z"
   },
   {
    "duration": 14,
    "start_time": "2025-01-12T09:21:27.543Z"
   },
   {
    "duration": 88,
    "start_time": "2025-01-12T09:21:27.559Z"
   },
   {
    "duration": 90,
    "start_time": "2025-01-12T09:21:27.648Z"
   },
   {
    "duration": 33,
    "start_time": "2025-01-12T09:21:27.740Z"
   },
   {
    "duration": 21,
    "start_time": "2025-01-12T09:21:27.775Z"
   },
   {
    "duration": 5,
    "start_time": "2025-01-12T09:21:27.797Z"
   },
   {
    "duration": 23,
    "start_time": "2025-01-12T09:21:27.804Z"
   },
   {
    "duration": 47,
    "start_time": "2025-01-12T09:21:27.829Z"
   },
   {
    "duration": 6,
    "start_time": "2025-01-12T09:21:27.877Z"
   },
   {
    "duration": 4,
    "start_time": "2025-01-12T09:21:27.887Z"
   },
   {
    "duration": 5,
    "start_time": "2025-01-12T09:21:27.892Z"
   },
   {
    "duration": 4,
    "start_time": "2025-01-12T09:21:27.898Z"
   },
   {
    "duration": 804,
    "start_time": "2025-01-12T09:21:27.904Z"
   },
   {
    "duration": 704,
    "start_time": "2025-01-12T09:21:28.710Z"
   },
   {
    "duration": 15,
    "start_time": "2025-01-12T09:21:29.416Z"
   },
   {
    "duration": 9,
    "start_time": "2025-01-12T09:21:29.433Z"
   },
   {
    "duration": 27,
    "start_time": "2025-01-12T09:21:29.444Z"
   },
   {
    "duration": 10,
    "start_time": "2025-01-12T09:21:29.472Z"
   },
   {
    "duration": 6,
    "start_time": "2025-01-12T09:21:29.483Z"
   },
   {
    "duration": 10,
    "start_time": "2025-01-12T09:21:29.490Z"
   },
   {
    "duration": 7,
    "start_time": "2025-01-12T09:21:29.502Z"
   },
   {
    "duration": 67,
    "start_time": "2025-01-12T09:21:29.510Z"
   },
   {
    "duration": 33,
    "start_time": "2025-01-12T09:21:29.578Z"
   },
   {
    "duration": 12,
    "start_time": "2025-01-12T09:21:29.613Z"
   },
   {
    "duration": 64,
    "start_time": "2025-01-12T09:21:29.627Z"
   },
   {
    "duration": 47,
    "start_time": "2025-01-12T09:21:29.693Z"
   },
   {
    "duration": 8,
    "start_time": "2025-01-12T09:21:29.742Z"
   },
   {
    "duration": 24,
    "start_time": "2025-01-12T09:21:29.752Z"
   },
   {
    "duration": 213,
    "start_time": "2025-01-12T09:21:29.778Z"
   },
   {
    "duration": 138,
    "start_time": "2025-01-12T09:21:29.993Z"
   },
   {
    "duration": 9,
    "start_time": "2025-01-12T09:21:30.134Z"
   },
   {
    "duration": 250,
    "start_time": "2025-01-12T09:21:30.146Z"
   },
   {
    "duration": 186,
    "start_time": "2025-01-12T09:21:30.398Z"
   },
   {
    "duration": 253,
    "start_time": "2025-01-12T09:21:30.588Z"
   },
   {
    "duration": 86,
    "start_time": "2025-01-12T09:21:30.843Z"
   },
   {
    "duration": 563,
    "start_time": "2025-01-12T09:21:30.930Z"
   },
   {
    "duration": 851,
    "start_time": "2025-01-12T09:21:31.495Z"
   },
   {
    "duration": 777,
    "start_time": "2025-01-12T09:21:32.348Z"
   },
   {
    "duration": 182,
    "start_time": "2025-01-12T09:21:33.127Z"
   },
   {
    "duration": 309,
    "start_time": "2025-01-12T09:21:33.311Z"
   },
   {
    "duration": 740,
    "start_time": "2025-01-12T09:21:33.622Z"
   },
   {
    "duration": 569,
    "start_time": "2025-01-12T09:21:34.369Z"
   },
   {
    "duration": 768,
    "start_time": "2025-01-12T09:21:34.940Z"
   },
   {
    "duration": 2587,
    "start_time": "2025-01-12T15:32:35.931Z"
   },
   {
    "duration": 1010,
    "start_time": "2025-01-12T15:32:38.520Z"
   },
   {
    "duration": 110,
    "start_time": "2025-01-12T15:32:39.533Z"
   },
   {
    "duration": 14,
    "start_time": "2025-01-12T15:32:39.644Z"
   },
   {
    "duration": 110,
    "start_time": "2025-01-12T15:32:39.669Z"
   },
   {
    "duration": 90,
    "start_time": "2025-01-12T15:32:39.781Z"
   },
   {
    "duration": 27,
    "start_time": "2025-01-12T15:32:39.872Z"
   },
   {
    "duration": 12,
    "start_time": "2025-01-12T15:32:39.901Z"
   },
   {
    "duration": 4,
    "start_time": "2025-01-12T15:32:39.915Z"
   },
   {
    "duration": 20,
    "start_time": "2025-01-12T15:32:39.920Z"
   },
   {
    "duration": 21,
    "start_time": "2025-01-12T15:32:39.970Z"
   },
   {
    "duration": 4,
    "start_time": "2025-01-12T15:32:39.993Z"
   },
   {
    "duration": 3,
    "start_time": "2025-01-12T15:32:39.999Z"
   },
   {
    "duration": 5,
    "start_time": "2025-01-12T15:32:40.006Z"
   },
   {
    "duration": 4,
    "start_time": "2025-01-12T15:32:40.013Z"
   },
   {
    "duration": 783,
    "start_time": "2025-01-12T15:32:40.018Z"
   },
   {
    "duration": 677,
    "start_time": "2025-01-12T15:32:40.804Z"
   },
   {
    "duration": 14,
    "start_time": "2025-01-12T15:32:41.482Z"
   },
   {
    "duration": 6,
    "start_time": "2025-01-12T15:32:41.498Z"
   },
   {
    "duration": 6,
    "start_time": "2025-01-12T15:32:41.506Z"
   },
   {
    "duration": 9,
    "start_time": "2025-01-12T15:32:41.514Z"
   },
   {
    "duration": 5,
    "start_time": "2025-01-12T15:32:41.525Z"
   },
   {
    "duration": 10,
    "start_time": "2025-01-12T15:32:41.571Z"
   },
   {
    "duration": 7,
    "start_time": "2025-01-12T15:32:41.582Z"
   },
   {
    "duration": 33,
    "start_time": "2025-01-12T15:32:41.590Z"
   },
   {
    "duration": 53,
    "start_time": "2025-01-12T15:32:41.625Z"
   },
   {
    "duration": 11,
    "start_time": "2025-01-12T15:32:41.680Z"
   },
   {
    "duration": 40,
    "start_time": "2025-01-12T15:32:41.692Z"
   },
   {
    "duration": 59,
    "start_time": "2025-01-12T15:32:41.733Z"
   },
   {
    "duration": 6,
    "start_time": "2025-01-12T15:32:41.794Z"
   },
   {
    "duration": 0,
    "start_time": "2025-01-12T15:32:41.803Z"
   },
   {
    "duration": 0,
    "start_time": "2025-01-12T15:32:41.804Z"
   },
   {
    "duration": 0,
    "start_time": "2025-01-12T15:32:41.806Z"
   },
   {
    "duration": 0,
    "start_time": "2025-01-12T15:32:41.807Z"
   },
   {
    "duration": 0,
    "start_time": "2025-01-12T15:32:41.811Z"
   },
   {
    "duration": 0,
    "start_time": "2025-01-12T15:32:41.813Z"
   },
   {
    "duration": 0,
    "start_time": "2025-01-12T15:32:41.815Z"
   },
   {
    "duration": 0,
    "start_time": "2025-01-12T15:32:41.816Z"
   },
   {
    "duration": 0,
    "start_time": "2025-01-12T15:32:41.818Z"
   },
   {
    "duration": 0,
    "start_time": "2025-01-12T15:32:41.819Z"
   },
   {
    "duration": 0,
    "start_time": "2025-01-12T15:32:41.821Z"
   },
   {
    "duration": 0,
    "start_time": "2025-01-12T15:32:41.822Z"
   },
   {
    "duration": 0,
    "start_time": "2025-01-12T15:32:41.824Z"
   },
   {
    "duration": 0,
    "start_time": "2025-01-12T15:32:41.825Z"
   },
   {
    "duration": 0,
    "start_time": "2025-01-12T15:32:41.826Z"
   },
   {
    "duration": 0,
    "start_time": "2025-01-12T15:32:41.827Z"
   },
   {
    "duration": 0,
    "start_time": "2025-01-12T15:32:41.828Z"
   },
   {
    "duration": 807,
    "start_time": "2025-01-12T15:33:00.105Z"
   },
   {
    "duration": 889,
    "start_time": "2025-01-12T15:33:00.915Z"
   },
   {
    "duration": 115,
    "start_time": "2025-01-12T15:33:01.806Z"
   },
   {
    "duration": 13,
    "start_time": "2025-01-12T15:33:01.923Z"
   },
   {
    "duration": 121,
    "start_time": "2025-01-12T15:33:01.939Z"
   },
   {
    "duration": 91,
    "start_time": "2025-01-12T15:33:02.061Z"
   },
   {
    "duration": 35,
    "start_time": "2025-01-12T15:33:02.154Z"
   },
   {
    "duration": 12,
    "start_time": "2025-01-12T15:33:02.191Z"
   },
   {
    "duration": 3,
    "start_time": "2025-01-12T15:33:02.206Z"
   },
   {
    "duration": 17,
    "start_time": "2025-01-12T15:33:02.211Z"
   },
   {
    "duration": 41,
    "start_time": "2025-01-12T15:33:02.230Z"
   },
   {
    "duration": 4,
    "start_time": "2025-01-12T15:33:02.272Z"
   },
   {
    "duration": 4,
    "start_time": "2025-01-12T15:33:02.278Z"
   },
   {
    "duration": 4,
    "start_time": "2025-01-12T15:33:02.285Z"
   },
   {
    "duration": 4,
    "start_time": "2025-01-12T15:33:02.290Z"
   },
   {
    "duration": 811,
    "start_time": "2025-01-12T15:33:02.295Z"
   },
   {
    "duration": 686,
    "start_time": "2025-01-12T15:33:03.108Z"
   },
   {
    "duration": 14,
    "start_time": "2025-01-12T15:33:03.796Z"
   },
   {
    "duration": 8,
    "start_time": "2025-01-12T15:33:03.811Z"
   },
   {
    "duration": 7,
    "start_time": "2025-01-12T15:33:03.820Z"
   },
   {
    "duration": 9,
    "start_time": "2025-01-12T15:33:03.829Z"
   },
   {
    "duration": 33,
    "start_time": "2025-01-12T15:33:03.840Z"
   },
   {
    "duration": 9,
    "start_time": "2025-01-12T15:33:03.875Z"
   },
   {
    "duration": 6,
    "start_time": "2025-01-12T15:33:03.886Z"
   },
   {
    "duration": 34,
    "start_time": "2025-01-12T15:33:03.894Z"
   },
   {
    "duration": 61,
    "start_time": "2025-01-12T15:33:03.930Z"
   },
   {
    "duration": 11,
    "start_time": "2025-01-12T15:33:03.993Z"
   },
   {
    "duration": 39,
    "start_time": "2025-01-12T15:33:04.006Z"
   },
   {
    "duration": 54,
    "start_time": "2025-01-12T15:33:04.047Z"
   },
   {
    "duration": 6,
    "start_time": "2025-01-12T15:33:04.105Z"
   },
   {
    "duration": 6,
    "start_time": "2025-01-12T15:33:04.113Z"
   },
   {
    "duration": 214,
    "start_time": "2025-01-12T15:33:04.121Z"
   },
   {
    "duration": 135,
    "start_time": "2025-01-12T15:33:04.337Z"
   },
   {
    "duration": 10,
    "start_time": "2025-01-12T15:33:04.474Z"
   },
   {
    "duration": 263,
    "start_time": "2025-01-12T15:33:04.485Z"
   },
   {
    "duration": 176,
    "start_time": "2025-01-12T15:33:04.750Z"
   },
   {
    "duration": 247,
    "start_time": "2025-01-12T15:33:04.927Z"
   },
   {
    "duration": 77,
    "start_time": "2025-01-12T15:33:05.176Z"
   },
   {
    "duration": 581,
    "start_time": "2025-01-12T15:33:05.255Z"
   },
   {
    "duration": 881,
    "start_time": "2025-01-12T15:33:05.837Z"
   },
   {
    "duration": 759,
    "start_time": "2025-01-12T15:33:06.720Z"
   },
   {
    "duration": 180,
    "start_time": "2025-01-12T15:33:07.481Z"
   },
   {
    "duration": 306,
    "start_time": "2025-01-12T15:33:07.663Z"
   },
   {
    "duration": 754,
    "start_time": "2025-01-12T15:33:07.971Z"
   },
   {
    "duration": 556,
    "start_time": "2025-01-12T15:33:08.728Z"
   },
   {
    "duration": 703,
    "start_time": "2025-01-12T15:33:09.287Z"
   },
   {
    "duration": 263,
    "start_time": "2025-01-13T09:25:57.961Z"
   },
   {
    "duration": 2559,
    "start_time": "2025-01-13T09:26:05.040Z"
   },
   {
    "duration": 1027,
    "start_time": "2025-01-13T09:26:10.818Z"
   },
   {
    "duration": 17,
    "start_time": "2025-01-13T09:26:16.756Z"
   },
   {
    "duration": 14,
    "start_time": "2025-01-13T09:26:21.285Z"
   },
   {
    "duration": 11,
    "start_time": "2025-01-13T09:26:24.332Z"
   },
   {
    "duration": 11,
    "start_time": "2025-01-13T09:26:28.476Z"
   },
   {
    "duration": 27,
    "start_time": "2025-01-13T09:26:31.559Z"
   },
   {
    "duration": 88,
    "start_time": "2025-01-13T09:26:38.152Z"
   },
   {
    "duration": 2548,
    "start_time": "2025-01-13T17:00:36.790Z"
   },
   {
    "duration": 984,
    "start_time": "2025-01-13T17:00:39.341Z"
   },
   {
    "duration": 18,
    "start_time": "2025-01-13T17:00:40.326Z"
   },
   {
    "duration": 13,
    "start_time": "2025-01-13T17:00:40.346Z"
   },
   {
    "duration": 10,
    "start_time": "2025-01-13T17:00:40.362Z"
   },
   {
    "duration": 41,
    "start_time": "2025-01-13T17:00:40.374Z"
   },
   {
    "duration": 27,
    "start_time": "2025-01-13T17:00:40.417Z"
   },
   {
    "duration": 98,
    "start_time": "2025-01-13T17:00:40.446Z"
   },
   {
    "duration": 13,
    "start_time": "2025-01-13T17:00:40.545Z"
   },
   {
    "duration": 103,
    "start_time": "2025-01-13T17:00:40.560Z"
   },
   {
    "duration": 90,
    "start_time": "2025-01-13T17:00:40.665Z"
   },
   {
    "duration": 25,
    "start_time": "2025-01-13T17:00:40.757Z"
   },
   {
    "duration": 12,
    "start_time": "2025-01-13T17:00:40.784Z"
   },
   {
    "duration": 4,
    "start_time": "2025-01-13T17:00:40.812Z"
   },
   {
    "duration": 18,
    "start_time": "2025-01-13T17:00:40.818Z"
   },
   {
    "duration": 20,
    "start_time": "2025-01-13T17:00:40.837Z"
   },
   {
    "duration": 6,
    "start_time": "2025-01-13T17:00:40.858Z"
   },
   {
    "duration": 4,
    "start_time": "2025-01-13T17:00:40.865Z"
   },
   {
    "duration": 4,
    "start_time": "2025-01-13T17:00:40.870Z"
   },
   {
    "duration": 4,
    "start_time": "2025-01-13T17:00:40.913Z"
   },
   {
    "duration": 767,
    "start_time": "2025-01-13T17:00:40.919Z"
   },
   {
    "duration": 707,
    "start_time": "2025-01-13T17:00:41.689Z"
   },
   {
    "duration": 20,
    "start_time": "2025-01-13T17:00:42.397Z"
   },
   {
    "duration": 7,
    "start_time": "2025-01-13T17:00:42.419Z"
   },
   {
    "duration": 7,
    "start_time": "2025-01-13T17:00:42.428Z"
   },
   {
    "duration": 9,
    "start_time": "2025-01-13T17:00:42.436Z"
   },
   {
    "duration": 6,
    "start_time": "2025-01-13T17:00:42.446Z"
   },
   {
    "duration": 9,
    "start_time": "2025-01-13T17:00:42.454Z"
   },
   {
    "duration": 48,
    "start_time": "2025-01-13T17:00:42.465Z"
   },
   {
    "duration": 37,
    "start_time": "2025-01-13T17:00:42.515Z"
   },
   {
    "duration": 29,
    "start_time": "2025-01-13T17:00:42.554Z"
   },
   {
    "duration": 32,
    "start_time": "2025-01-13T17:00:42.584Z"
   },
   {
    "duration": 41,
    "start_time": "2025-01-13T17:00:42.617Z"
   },
   {
    "duration": 52,
    "start_time": "2025-01-13T17:00:42.660Z"
   },
   {
    "duration": 7,
    "start_time": "2025-01-13T17:00:42.714Z"
   },
   {
    "duration": 6,
    "start_time": "2025-01-13T17:00:42.723Z"
   },
   {
    "duration": 211,
    "start_time": "2025-01-13T17:00:42.731Z"
   },
   {
    "duration": 132,
    "start_time": "2025-01-13T17:00:42.944Z"
   },
   {
    "duration": 8,
    "start_time": "2025-01-13T17:00:43.078Z"
   },
   {
    "duration": 214,
    "start_time": "2025-01-13T17:00:43.088Z"
   },
   {
    "duration": 171,
    "start_time": "2025-01-13T17:00:43.312Z"
   },
   {
    "duration": 237,
    "start_time": "2025-01-13T17:00:43.485Z"
   },
   {
    "duration": 88,
    "start_time": "2025-01-13T17:00:43.724Z"
   },
   {
    "duration": 555,
    "start_time": "2025-01-13T17:00:43.814Z"
   },
   {
    "duration": 910,
    "start_time": "2025-01-13T17:00:44.371Z"
   },
   {
    "duration": 782,
    "start_time": "2025-01-13T17:00:45.283Z"
   },
   {
    "duration": 183,
    "start_time": "2025-01-13T17:00:46.067Z"
   },
   {
    "duration": 372,
    "start_time": "2025-01-13T17:00:46.252Z"
   },
   {
    "duration": 767,
    "start_time": "2025-01-13T17:00:46.625Z"
   },
   {
    "duration": 553,
    "start_time": "2025-01-13T17:00:47.394Z"
   },
   {
    "duration": 721,
    "start_time": "2025-01-13T17:00:47.949Z"
   },
   {
    "duration": 823,
    "start_time": "2025-01-13T17:04:35.871Z"
   },
   {
    "duration": 876,
    "start_time": "2025-01-13T17:04:36.696Z"
   },
   {
    "duration": 18,
    "start_time": "2025-01-13T17:04:37.574Z"
   },
   {
    "duration": 28,
    "start_time": "2025-01-13T17:04:37.594Z"
   },
   {
    "duration": 10,
    "start_time": "2025-01-13T17:04:37.625Z"
   },
   {
    "duration": 10,
    "start_time": "2025-01-13T17:04:37.637Z"
   },
   {
    "duration": 27,
    "start_time": "2025-01-13T17:04:37.649Z"
   },
   {
    "duration": 125,
    "start_time": "2025-01-13T17:04:37.678Z"
   },
   {
    "duration": 16,
    "start_time": "2025-01-13T17:04:37.805Z"
   },
   {
    "duration": 98,
    "start_time": "2025-01-13T17:04:37.823Z"
   },
   {
    "duration": 90,
    "start_time": "2025-01-13T17:04:37.922Z"
   },
   {
    "duration": 27,
    "start_time": "2025-01-13T17:04:38.013Z"
   },
   {
    "duration": 12,
    "start_time": "2025-01-13T17:04:38.042Z"
   },
   {
    "duration": 4,
    "start_time": "2025-01-13T17:04:38.057Z"
   },
   {
    "duration": 19,
    "start_time": "2025-01-13T17:04:38.062Z"
   },
   {
    "duration": 46,
    "start_time": "2025-01-13T17:04:38.082Z"
   },
   {
    "duration": 6,
    "start_time": "2025-01-13T17:04:38.130Z"
   },
   {
    "duration": 4,
    "start_time": "2025-01-13T17:04:38.138Z"
   },
   {
    "duration": 5,
    "start_time": "2025-01-13T17:04:38.144Z"
   },
   {
    "duration": 4,
    "start_time": "2025-01-13T17:04:38.151Z"
   },
   {
    "duration": 778,
    "start_time": "2025-01-13T17:04:38.156Z"
   },
   {
    "duration": 697,
    "start_time": "2025-01-13T17:04:38.936Z"
   },
   {
    "duration": 13,
    "start_time": "2025-01-13T17:04:39.634Z"
   },
   {
    "duration": 7,
    "start_time": "2025-01-13T17:04:39.649Z"
   },
   {
    "duration": 6,
    "start_time": "2025-01-13T17:04:39.658Z"
   },
   {
    "duration": 8,
    "start_time": "2025-01-13T17:04:39.666Z"
   },
   {
    "duration": 35,
    "start_time": "2025-01-13T17:04:39.676Z"
   },
   {
    "duration": 9,
    "start_time": "2025-01-13T17:04:39.714Z"
   },
   {
    "duration": 6,
    "start_time": "2025-01-13T17:04:39.725Z"
   },
   {
    "duration": 36,
    "start_time": "2025-01-13T17:04:39.733Z"
   },
   {
    "duration": 58,
    "start_time": "2025-01-13T17:04:39.770Z"
   },
   {
    "duration": 11,
    "start_time": "2025-01-13T17:04:39.830Z"
   },
   {
    "duration": 42,
    "start_time": "2025-01-13T17:04:39.843Z"
   },
   {
    "duration": 64,
    "start_time": "2025-01-13T17:04:39.887Z"
   },
   {
    "duration": 8,
    "start_time": "2025-01-13T17:04:39.953Z"
   },
   {
    "duration": 8,
    "start_time": "2025-01-13T17:04:39.963Z"
   },
   {
    "duration": 206,
    "start_time": "2025-01-13T17:04:39.973Z"
   },
   {
    "duration": 176,
    "start_time": "2025-01-13T17:04:40.181Z"
   },
   {
    "duration": 8,
    "start_time": "2025-01-13T17:04:40.359Z"
   },
   {
    "duration": 216,
    "start_time": "2025-01-13T17:04:40.369Z"
   },
   {
    "duration": 181,
    "start_time": "2025-01-13T17:04:40.590Z"
   },
   {
    "duration": 241,
    "start_time": "2025-01-13T17:04:40.773Z"
   },
   {
    "duration": 80,
    "start_time": "2025-01-13T17:04:41.017Z"
   },
   {
    "duration": 567,
    "start_time": "2025-01-13T17:04:41.112Z"
   },
   {
    "duration": 866,
    "start_time": "2025-01-13T17:04:41.681Z"
   },
   {
    "duration": 750,
    "start_time": "2025-01-13T17:04:42.549Z"
   },
   {
    "duration": 174,
    "start_time": "2025-01-13T17:04:43.300Z"
   },
   {
    "duration": 302,
    "start_time": "2025-01-13T17:04:43.476Z"
   },
   {
    "duration": 754,
    "start_time": "2025-01-13T17:04:43.780Z"
   },
   {
    "duration": 591,
    "start_time": "2025-01-13T17:04:44.536Z"
   },
   {
    "duration": 716,
    "start_time": "2025-01-13T17:04:45.129Z"
   }
  ],
  "kernelspec": {
   "display_name": "Python 3 (ipykernel)",
   "language": "python",
   "name": "python3"
  },
  "language_info": {
   "codemirror_mode": {
    "name": "ipython",
    "version": 3
   },
   "file_extension": ".py",
   "mimetype": "text/x-python",
   "name": "python",
   "nbconvert_exporter": "python",
   "pygments_lexer": "ipython3",
   "version": "3.9.19"
  },
  "toc": {
   "base_numbering": 1,
   "nav_menu": {
    "height": "11.3333px",
    "width": "160px"
   },
   "number_sections": true,
   "sideBar": true,
   "skip_h1_title": true,
   "title_cell": "Table of Contents",
   "title_sidebar": "Contents",
   "toc_cell": false,
   "toc_position": {
    "height": "calc(100% - 180px)",
    "left": "10px",
    "top": "150px",
    "width": "385px"
   },
   "toc_section_display": true,
   "toc_window_display": true
  },
  "vscode": {
   "interpreter": {
    "hash": "01a7be9ec63e704a62cefc5fe7a4756944464ee731be31632bdf42a4cb4688cf"
   }
  }
 },
 "nbformat": 4,
 "nbformat_minor": 5
}
